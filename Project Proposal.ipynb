{
 "cells": [
  {
   "cell_type": "markdown",
   "metadata": {},
   "source": [
    "# Predicting Fradulent Activity through Data Analysis\n"
   ]
  },
  {
   "cell_type": "markdown",
   "metadata": {},
   "source": [
    "## Introduction\n",
    "    \n",
    "   The dataset used will be Audit Data, which was collected by the Comptroller and Auditor General of India for the 2015-2016 year from the Auditor General Office of the CAG. The data features information from 777 different firms across 46 different cities and 14 different industry sectors. Auditing is the practice of examining businesses' financial records compared to their financial statements to ensure they are in compliance with India's accounting laws. The purpose of the project centers on the prevention of fraudulent data activity. In the long term the prediction could help the impact it may cause to the economy and individuals on that society.\n",
    " The question we will be trying to answer in this data analysis is: *“Can the status of fraud in an Indian firm be predicted based on Money_Value and TOTAL?”*. "
   ]
  },
  {
   "cell_type": "markdown",
   "metadata": {},
   "source": [
    "## Preliminary exploratory data analysis"
   ]
  },
  {
   "cell_type": "markdown",
   "metadata": {},
   "source": [
    "### Reading the data"
   ]
  },
  {
   "cell_type": "code",
   "execution_count": null,
   "metadata": {},
   "outputs": [],
   "source": [
    "library(tidyverse)\n",
    "library(tidymodels)\n",
    "library(repr)"
   ]
  },
  {
   "cell_type": "code",
   "execution_count": null,
   "metadata": {},
   "outputs": [],
   "source": [
    "audit_trial <- read_csv(\"audit_data/trial.csv\")%>%\n",
    "    select(Money_Value, TOTAL, Risk) %>%\n",
    "    mutate(Risk = as.factor(Risk))\n",
    "\n",
    "audit_split <- initial_split(audit_trial, prop = 0.75, strata = Risk)\n",
    "audit_training <- training(audit_split)\n",
    "audit_testing <- testing(audit_split)"
   ]
  },
  {
   "cell_type": "code",
   "execution_count": null,
   "metadata": {},
   "outputs": [],
   "source": [
    "audit_recipe <- recipe(Risk ~., data = audit_training) %>%\n",
    "    step_scale(all_predictors()) %>%\n",
    "    step_center(all_predictors())"
   ]
  },
  {
   "cell_type": "code",
   "execution_count": null,
   "metadata": {},
   "outputs": [],
   "source": [
    "knn_spec <- nearest_neighbor(weight_func = \"rectangular\", neighbors = 3) %>%\n",
    "       set_engine(\"kknn\") %>%\n",
    "       set_mode(\"classification\")"
   ]
  },
  {
   "cell_type": "code",
   "execution_count": null,
   "metadata": {},
   "outputs": [],
   "source": [
    "audit_workflow <- workflow() %>%\n",
    "       add_recipe(audit_recipe) %>%\n",
    "       add_model(knn_spec)%>%\n",
    "       fit(data= audit_training)"
   ]
  },
  {
   "cell_type": "markdown",
   "metadata": {},
   "source": [
    "### Training Data Visualization"
   ]
  },
  {
   "cell_type": "code",
   "execution_count": null,
   "metadata": {},
   "outputs": [],
   "source": [
    "options(repr.plot.width=18, repr.plot.height=14)\n",
    "audit_plot <- ggplot(audit_training, (aes(x= TOTAL , y= Money_Value, colour = Risk))) +\n",
    "        geom_point() + \n",
    "        labs(x = \"Money Involved in Misstatements in Past Audits(₹) \", y = \"Total  Discrepancy Found in Other Reports\", colour = 'Risk') +\n",
    "        ggtitle(\"Fraudulent Activity within Indian Firms\") +\n",
    "        theme(text = element_text(size = 20))\n",
    "audit_plot"
   ]
  },
  {
   "cell_type": "markdown",
   "metadata": {},
   "source": [
    "### Training Data Summary Tables"
   ]
  },
  {
   "cell_type": "code",
   "execution_count": null,
   "metadata": {},
   "outputs": [],
   "source": [
    "missing_values <- filter(audit_training, TOTAL == 1)\n",
    "summary <- summarize(audit_training, mean_mv = mean(Money_Value), mean_t = mean(TOTAL), count = nrow(audit_training))\n",
    "\n",
    "missing_values\n",
    "summary"
   ]
  },
  {
   "cell_type": "markdown",
   "metadata": {},
   "source": [
    "## Methods\n",
    "\n",
    "After a preliminary investigation into the paper utilizing this data we determined the most important factors were Score A, Score B, Money Value, Total, Loss, and History. However, to improve the final data visualization of the project we narrowed it down to two factors:  the amount of money involved in misstatements in past audits (Money_Value), and the total amount of discrepancy found in past audit report (TOTAL). To visualize the data, we plan on using a scatter plot with fraudulent and non-fraudulent firms color coded with the two predictors on the axes. \n"
   ]
  },
  {
   "cell_type": "markdown",
   "metadata": {},
   "source": [
    "## Expected Outcomes and Significance\n",
    "Through this project, we expect to find If we can use the amount of money involved in misstatements and the total amount of discrepancy found in past audit reports to predict whether a firm is fraudulent or not.\n",
    "<br>Our findings could help auditors conduct risk assessment through identification of anomalies and trends and then point out items they need to investigate further, as a result, they can improve their models for auditing. Besides, our findings can provide evidence and statistical support for possible legal policies and actions imposed upon firms that are predicted to be fraudulent.\n",
    "<br>This project could lead to the question that if there are other variables that can be looked at that help provide a more accurate prediction. In addition, whether there are any trends in fraudulent firms or not and how these patterns can be more easily detected are to be explored further in future studies."
   ]
  }
 ],
 "metadata": {
  "kernelspec": {
   "display_name": "R",
   "language": "R",
   "name": "ir"
  },
  "language_info": {
   "codemirror_mode": "r",
   "file_extension": ".r",
   "mimetype": "text/x-r-source",
   "name": "R",
   "pygments_lexer": "r",
   "version": "4.0.0"
  }
 },
 "nbformat": 4,
 "nbformat_minor": 4
}
