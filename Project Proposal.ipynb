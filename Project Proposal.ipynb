{
 "cells": [
  {
   "cell_type": "markdown",
   "metadata": {},
   "source": [
    "# Predicting Fradulent Activity through Data Analysis\n"
   ]
  },
  {
   "cell_type": "markdown",
   "metadata": {},
   "source": [
    "### Introduction\n",
    "    \n",
    "   The dataset used will be Audit Data, which was collected by the Comptroller and Auditor General of India for the 2015-2016 year from the Auditor General Office of the CAG. The data features information from 777 different firms across 46 different cities and 14 different industry sectors. Auditing is the practice of examining businesses' financial records compared to their financial statements to ensure they are in compliance with India's accounting laws. The purpose of the project centers on the prevention of fraudulent data activity. In the long term the prediction could help the impact it may cause to the economy and individuals on that society.\n",
    " The question we will be trying to answer in this data analysis is: *“Can the status of fraud in an Indian firm be predicted based on Money_Value and TOTAL?”*. "
   ]
  },
  {
   "cell_type": "markdown",
   "metadata": {},
   "source": [
    "## Preliminary exploratory data analysis"
   ]
  },
  {
   "cell_type": "markdown",
   "metadata": {},
   "source": [
    "### Reading the data"
   ]
  },
  {
   "cell_type": "code",
   "execution_count": 1,
   "metadata": {},
   "outputs": [
    {
     "name": "stderr",
     "output_type": "stream",
     "text": [
      "── \u001b[1mAttaching packages\u001b[22m ─────────────────────────────────────── tidyverse 1.3.0 ──\n",
      "\n",
      "\u001b[32m✔\u001b[39m \u001b[34mggplot2\u001b[39m 3.3.2     \u001b[32m✔\u001b[39m \u001b[34mpurrr  \u001b[39m 0.3.4\n",
      "\u001b[32m✔\u001b[39m \u001b[34mtibble \u001b[39m 3.0.3     \u001b[32m✔\u001b[39m \u001b[34mdplyr  \u001b[39m 1.0.2\n",
      "\u001b[32m✔\u001b[39m \u001b[34mtidyr  \u001b[39m 1.1.2     \u001b[32m✔\u001b[39m \u001b[34mstringr\u001b[39m 1.4.0\n",
      "\u001b[32m✔\u001b[39m \u001b[34mreadr  \u001b[39m 1.3.1     \u001b[32m✔\u001b[39m \u001b[34mforcats\u001b[39m 0.5.0\n",
      "\n",
      "Warning message:\n",
      "“package ‘ggplot2’ was built under R version 4.0.1”\n",
      "Warning message:\n",
      "“package ‘tibble’ was built under R version 4.0.2”\n",
      "Warning message:\n",
      "“package ‘tidyr’ was built under R version 4.0.2”\n",
      "Warning message:\n",
      "“package ‘dplyr’ was built under R version 4.0.2”\n",
      "── \u001b[1mConflicts\u001b[22m ────────────────────────────────────────── tidyverse_conflicts() ──\n",
      "\u001b[31m✖\u001b[39m \u001b[34mdplyr\u001b[39m::\u001b[32mfilter()\u001b[39m masks \u001b[34mstats\u001b[39m::filter()\n",
      "\u001b[31m✖\u001b[39m \u001b[34mdplyr\u001b[39m::\u001b[32mlag()\u001b[39m    masks \u001b[34mstats\u001b[39m::lag()\n",
      "\n",
      "Warning message:\n",
      "“package ‘tidymodels’ was built under R version 4.0.2”\n",
      "── \u001b[1mAttaching packages\u001b[22m ────────────────────────────────────── tidymodels 0.1.1 ──\n",
      "\n",
      "\u001b[32m✔\u001b[39m \u001b[34mbroom    \u001b[39m 0.7.0      \u001b[32m✔\u001b[39m \u001b[34mrecipes  \u001b[39m 0.1.13\n",
      "\u001b[32m✔\u001b[39m \u001b[34mdials    \u001b[39m 0.0.9      \u001b[32m✔\u001b[39m \u001b[34mrsample  \u001b[39m 0.0.7 \n",
      "\u001b[32m✔\u001b[39m \u001b[34minfer    \u001b[39m 0.5.4      \u001b[32m✔\u001b[39m \u001b[34mtune     \u001b[39m 0.1.1 \n",
      "\u001b[32m✔\u001b[39m \u001b[34mmodeldata\u001b[39m 0.0.2      \u001b[32m✔\u001b[39m \u001b[34mworkflows\u001b[39m 0.2.0 \n",
      "\u001b[32m✔\u001b[39m \u001b[34mparsnip  \u001b[39m 0.1.3      \u001b[32m✔\u001b[39m \u001b[34myardstick\u001b[39m 0.0.7 \n",
      "\n",
      "Warning message:\n",
      "“package ‘broom’ was built under R version 4.0.2”\n",
      "Warning message:\n",
      "“package ‘dials’ was built under R version 4.0.2”\n",
      "Warning message:\n",
      "“package ‘infer’ was built under R version 4.0.3”\n",
      "Warning message:\n",
      "“package ‘modeldata’ was built under R version 4.0.1”\n",
      "Warning message:\n",
      "“package ‘parsnip’ was built under R version 4.0.2”\n",
      "Warning message:\n",
      "“package ‘recipes’ was built under R version 4.0.1”\n",
      "Warning message:\n",
      "“package ‘tune’ was built under R version 4.0.2”\n",
      "Warning message:\n",
      "“package ‘workflows’ was built under R version 4.0.2”\n",
      "Warning message:\n",
      "“package ‘yardstick’ was built under R version 4.0.2”\n",
      "── \u001b[1mConflicts\u001b[22m ───────────────────────────────────────── tidymodels_conflicts() ──\n",
      "\u001b[31m✖\u001b[39m \u001b[34mscales\u001b[39m::\u001b[32mdiscard()\u001b[39m masks \u001b[34mpurrr\u001b[39m::discard()\n",
      "\u001b[31m✖\u001b[39m \u001b[34mdplyr\u001b[39m::\u001b[32mfilter()\u001b[39m   masks \u001b[34mstats\u001b[39m::filter()\n",
      "\u001b[31m✖\u001b[39m \u001b[34mrecipes\u001b[39m::\u001b[32mfixed()\u001b[39m  masks \u001b[34mstringr\u001b[39m::fixed()\n",
      "\u001b[31m✖\u001b[39m \u001b[34mdplyr\u001b[39m::\u001b[32mlag()\u001b[39m      masks \u001b[34mstats\u001b[39m::lag()\n",
      "\u001b[31m✖\u001b[39m \u001b[34myardstick\u001b[39m::\u001b[32mspec()\u001b[39m masks \u001b[34mreadr\u001b[39m::spec()\n",
      "\u001b[31m✖\u001b[39m \u001b[34mrecipes\u001b[39m::\u001b[32mstep()\u001b[39m   masks \u001b[34mstats\u001b[39m::step()\n",
      "\n"
     ]
    }
   ],
   "source": [
    "library(tidyverse)\n",
    "library(tidymodels)\n",
    "library(repr)"
   ]
  },
  {
   "cell_type": "code",
   "execution_count": 9,
   "metadata": {},
   "outputs": [
    {
     "name": "stderr",
     "output_type": "stream",
     "text": [
      "Parsed with column specification:\n",
      "cols(\n",
      "  Sector_score = \u001b[32mcol_double()\u001b[39m,\n",
      "  LOCATION_ID = \u001b[31mcol_character()\u001b[39m,\n",
      "  PARA_A = \u001b[32mcol_double()\u001b[39m,\n",
      "  SCORE_A = \u001b[32mcol_double()\u001b[39m,\n",
      "  PARA_B = \u001b[32mcol_double()\u001b[39m,\n",
      "  SCORE_B = \u001b[32mcol_double()\u001b[39m,\n",
      "  TOTAL = \u001b[32mcol_double()\u001b[39m,\n",
      "  numbers = \u001b[32mcol_double()\u001b[39m,\n",
      "  Marks = \u001b[32mcol_double()\u001b[39m,\n",
      "  Money_Value = \u001b[32mcol_double()\u001b[39m,\n",
      "  MONEY_Marks = \u001b[32mcol_double()\u001b[39m,\n",
      "  District = \u001b[32mcol_double()\u001b[39m,\n",
      "  Loss = \u001b[32mcol_double()\u001b[39m,\n",
      "  LOSS_SCORE = \u001b[32mcol_double()\u001b[39m,\n",
      "  History = \u001b[32mcol_double()\u001b[39m,\n",
      "  History_score = \u001b[32mcol_double()\u001b[39m,\n",
      "  Score = \u001b[32mcol_double()\u001b[39m,\n",
      "  Risk = \u001b[32mcol_double()\u001b[39m\n",
      ")\n",
      "\n"
     ]
    },
    {
     "data": {
      "text/html": [
       "<table>\n",
       "<caption>A tibble: 776 × 3</caption>\n",
       "<thead>\n",
       "\t<tr><th scope=col>Money_Value</th><th scope=col>TOTAL</th><th scope=col>Risk</th></tr>\n",
       "\t<tr><th scope=col>&lt;dbl&gt;</th><th scope=col>&lt;dbl&gt;</th><th scope=col>&lt;fct&gt;</th></tr>\n",
       "</thead>\n",
       "<tbody>\n",
       "\t<tr><td>  3.380</td><td> 6.68</td><td>1</td></tr>\n",
       "\t<tr><td>  0.940</td><td> 4.83</td><td>0</td></tr>\n",
       "\t<tr><td>  0.000</td><td> 0.74</td><td>0</td></tr>\n",
       "\t<tr><td> 11.750</td><td>10.80</td><td>1</td></tr>\n",
       "\t<tr><td>  0.000</td><td> 0.08</td><td>0</td></tr>\n",
       "\t<tr><td>  2.950</td><td> 0.83</td><td>0</td></tr>\n",
       "\t<tr><td> 44.950</td><td> 8.51</td><td>1</td></tr>\n",
       "\t<tr><td>  7.790</td><td>20.53</td><td>1</td></tr>\n",
       "\t<tr><td>  7.340</td><td>19.45</td><td>1</td></tr>\n",
       "\t<tr><td>  1.930</td><td> 4.97</td><td>1</td></tr>\n",
       "\t<tr><td>  4.420</td><td>16.20</td><td>1</td></tr>\n",
       "\t<tr><td>  0.960</td><td>55.52</td><td>1</td></tr>\n",
       "\t<tr><td> 10.430</td><td>13.10</td><td>1</td></tr>\n",
       "\t<tr><td>  0.000</td><td> 1.44</td><td>1</td></tr>\n",
       "\t<tr><td>  0.007</td><td> 0.84</td><td>0</td></tr>\n",
       "\t<tr><td>  9.000</td><td>10.96</td><td>1</td></tr>\n",
       "\t<tr><td> 41.280</td><td>40.17</td><td>1</td></tr>\n",
       "\t<tr><td> 14.030</td><td> 9.01</td><td>1</td></tr>\n",
       "\t<tr><td>  0.000</td><td> 2.84</td><td>1</td></tr>\n",
       "\t<tr><td> 63.180</td><td>51.64</td><td>1</td></tr>\n",
       "\t<tr><td> 34.240</td><td>20.36</td><td>1</td></tr>\n",
       "\t<tr><td>  0.010</td><td> 5.96</td><td>1</td></tr>\n",
       "\t<tr><td>205.190</td><td>28.10</td><td>1</td></tr>\n",
       "\t<tr><td>  0.100</td><td> 0.95</td><td>0</td></tr>\n",
       "\t<tr><td> 11.160</td><td>63.70</td><td>1</td></tr>\n",
       "\t<tr><td>  1.250</td><td> 9.66</td><td>1</td></tr>\n",
       "\t<tr><td>  0.007</td><td> 1.10</td><td>0</td></tr>\n",
       "\t<tr><td>  1.460</td><td>38.61</td><td>1</td></tr>\n",
       "\t<tr><td>  0.000</td><td> 1.03</td><td>0</td></tr>\n",
       "\t<tr><td>  6.780</td><td> 0.75</td><td>1</td></tr>\n",
       "\t<tr><td>⋮</td><td>⋮</td><td>⋮</td></tr>\n",
       "\t<tr><td>0.00</td><td>0.2517</td><td>0</td></tr>\n",
       "\t<tr><td>0.00</td><td>0.3115</td><td>0</td></tr>\n",
       "\t<tr><td>0.00</td><td>0.0000</td><td>0</td></tr>\n",
       "\t<tr><td>0.00</td><td>0.8400</td><td>0</td></tr>\n",
       "\t<tr><td>0.00</td><td>1.0900</td><td>1</td></tr>\n",
       "\t<tr><td>0.00</td><td>1.2900</td><td>1</td></tr>\n",
       "\t<tr><td>0.00</td><td>0.8800</td><td>0</td></tr>\n",
       "\t<tr><td>0.00</td><td>0.0900</td><td>0</td></tr>\n",
       "\t<tr><td>0.00</td><td>1.3000</td><td>0</td></tr>\n",
       "\t<tr><td>0.00</td><td>1.0700</td><td>1</td></tr>\n",
       "\t<tr><td>0.00</td><td>0.0000</td><td>0</td></tr>\n",
       "\t<tr><td>0.18</td><td>3.4700</td><td>1</td></tr>\n",
       "\t<tr><td>0.00</td><td>1.0400</td><td>0</td></tr>\n",
       "\t<tr><td>0.00</td><td>1.4900</td><td>0</td></tr>\n",
       "\t<tr><td>0.00</td><td>2.0100</td><td>1</td></tr>\n",
       "\t<tr><td>0.00</td><td>0.0000</td><td>0</td></tr>\n",
       "\t<tr><td>0.00</td><td>0.5900</td><td>0</td></tr>\n",
       "\t<tr><td>0.00</td><td>0.0200</td><td>0</td></tr>\n",
       "\t<tr><td>0.00</td><td>5.9600</td><td>1</td></tr>\n",
       "\t<tr><td>0.00</td><td>3.3000</td><td>1</td></tr>\n",
       "\t<tr><td>0.00</td><td>1.3700</td><td>0</td></tr>\n",
       "\t<tr><td>0.21</td><td>0.9000</td><td>0</td></tr>\n",
       "\t<tr><td>0.00</td><td>0.9700</td><td>0</td></tr>\n",
       "\t<tr><td>0.09</td><td>1.0100</td><td>0</td></tr>\n",
       "\t<tr><td>0.00</td><td>1.2000</td><td>0</td></tr>\n",
       "\t<tr><td>0.00</td><td>0.8900</td><td>0</td></tr>\n",
       "\t<tr><td>0.00</td><td>0.8400</td><td>0</td></tr>\n",
       "\t<tr><td>0.00</td><td>0.2800</td><td>0</td></tr>\n",
       "\t<tr><td>0.00</td><td>0.2000</td><td>0</td></tr>\n",
       "\t<tr><td>0.32</td><td>0.0000</td><td>0</td></tr>\n",
       "</tbody>\n",
       "</table>\n"
      ],
      "text/latex": [
       "A tibble: 776 × 3\n",
       "\\begin{tabular}{lll}\n",
       " Money\\_Value & TOTAL & Risk\\\\\n",
       " <dbl> & <dbl> & <fct>\\\\\n",
       "\\hline\n",
       "\t   3.380 &  6.68 & 1\\\\\n",
       "\t   0.940 &  4.83 & 0\\\\\n",
       "\t   0.000 &  0.74 & 0\\\\\n",
       "\t  11.750 & 10.80 & 1\\\\\n",
       "\t   0.000 &  0.08 & 0\\\\\n",
       "\t   2.950 &  0.83 & 0\\\\\n",
       "\t  44.950 &  8.51 & 1\\\\\n",
       "\t   7.790 & 20.53 & 1\\\\\n",
       "\t   7.340 & 19.45 & 1\\\\\n",
       "\t   1.930 &  4.97 & 1\\\\\n",
       "\t   4.420 & 16.20 & 1\\\\\n",
       "\t   0.960 & 55.52 & 1\\\\\n",
       "\t  10.430 & 13.10 & 1\\\\\n",
       "\t   0.000 &  1.44 & 1\\\\\n",
       "\t   0.007 &  0.84 & 0\\\\\n",
       "\t   9.000 & 10.96 & 1\\\\\n",
       "\t  41.280 & 40.17 & 1\\\\\n",
       "\t  14.030 &  9.01 & 1\\\\\n",
       "\t   0.000 &  2.84 & 1\\\\\n",
       "\t  63.180 & 51.64 & 1\\\\\n",
       "\t  34.240 & 20.36 & 1\\\\\n",
       "\t   0.010 &  5.96 & 1\\\\\n",
       "\t 205.190 & 28.10 & 1\\\\\n",
       "\t   0.100 &  0.95 & 0\\\\\n",
       "\t  11.160 & 63.70 & 1\\\\\n",
       "\t   1.250 &  9.66 & 1\\\\\n",
       "\t   0.007 &  1.10 & 0\\\\\n",
       "\t   1.460 & 38.61 & 1\\\\\n",
       "\t   0.000 &  1.03 & 0\\\\\n",
       "\t   6.780 &  0.75 & 1\\\\\n",
       "\t ⋮ & ⋮ & ⋮\\\\\n",
       "\t 0.00 & 0.2517 & 0\\\\\n",
       "\t 0.00 & 0.3115 & 0\\\\\n",
       "\t 0.00 & 0.0000 & 0\\\\\n",
       "\t 0.00 & 0.8400 & 0\\\\\n",
       "\t 0.00 & 1.0900 & 1\\\\\n",
       "\t 0.00 & 1.2900 & 1\\\\\n",
       "\t 0.00 & 0.8800 & 0\\\\\n",
       "\t 0.00 & 0.0900 & 0\\\\\n",
       "\t 0.00 & 1.3000 & 0\\\\\n",
       "\t 0.00 & 1.0700 & 1\\\\\n",
       "\t 0.00 & 0.0000 & 0\\\\\n",
       "\t 0.18 & 3.4700 & 1\\\\\n",
       "\t 0.00 & 1.0400 & 0\\\\\n",
       "\t 0.00 & 1.4900 & 0\\\\\n",
       "\t 0.00 & 2.0100 & 1\\\\\n",
       "\t 0.00 & 0.0000 & 0\\\\\n",
       "\t 0.00 & 0.5900 & 0\\\\\n",
       "\t 0.00 & 0.0200 & 0\\\\\n",
       "\t 0.00 & 5.9600 & 1\\\\\n",
       "\t 0.00 & 3.3000 & 1\\\\\n",
       "\t 0.00 & 1.3700 & 0\\\\\n",
       "\t 0.21 & 0.9000 & 0\\\\\n",
       "\t 0.00 & 0.9700 & 0\\\\\n",
       "\t 0.09 & 1.0100 & 0\\\\\n",
       "\t 0.00 & 1.2000 & 0\\\\\n",
       "\t 0.00 & 0.8900 & 0\\\\\n",
       "\t 0.00 & 0.8400 & 0\\\\\n",
       "\t 0.00 & 0.2800 & 0\\\\\n",
       "\t 0.00 & 0.2000 & 0\\\\\n",
       "\t 0.32 & 0.0000 & 0\\\\\n",
       "\\end{tabular}\n"
      ],
      "text/markdown": [
       "\n",
       "A tibble: 776 × 3\n",
       "\n",
       "| Money_Value &lt;dbl&gt; | TOTAL &lt;dbl&gt; | Risk &lt;fct&gt; |\n",
       "|---|---|---|\n",
       "|   3.380 |  6.68 | 1 |\n",
       "|   0.940 |  4.83 | 0 |\n",
       "|   0.000 |  0.74 | 0 |\n",
       "|  11.750 | 10.80 | 1 |\n",
       "|   0.000 |  0.08 | 0 |\n",
       "|   2.950 |  0.83 | 0 |\n",
       "|  44.950 |  8.51 | 1 |\n",
       "|   7.790 | 20.53 | 1 |\n",
       "|   7.340 | 19.45 | 1 |\n",
       "|   1.930 |  4.97 | 1 |\n",
       "|   4.420 | 16.20 | 1 |\n",
       "|   0.960 | 55.52 | 1 |\n",
       "|  10.430 | 13.10 | 1 |\n",
       "|   0.000 |  1.44 | 1 |\n",
       "|   0.007 |  0.84 | 0 |\n",
       "|   9.000 | 10.96 | 1 |\n",
       "|  41.280 | 40.17 | 1 |\n",
       "|  14.030 |  9.01 | 1 |\n",
       "|   0.000 |  2.84 | 1 |\n",
       "|  63.180 | 51.64 | 1 |\n",
       "|  34.240 | 20.36 | 1 |\n",
       "|   0.010 |  5.96 | 1 |\n",
       "| 205.190 | 28.10 | 1 |\n",
       "|   0.100 |  0.95 | 0 |\n",
       "|  11.160 | 63.70 | 1 |\n",
       "|   1.250 |  9.66 | 1 |\n",
       "|   0.007 |  1.10 | 0 |\n",
       "|   1.460 | 38.61 | 1 |\n",
       "|   0.000 |  1.03 | 0 |\n",
       "|   6.780 |  0.75 | 1 |\n",
       "| ⋮ | ⋮ | ⋮ |\n",
       "| 0.00 | 0.2517 | 0 |\n",
       "| 0.00 | 0.3115 | 0 |\n",
       "| 0.00 | 0.0000 | 0 |\n",
       "| 0.00 | 0.8400 | 0 |\n",
       "| 0.00 | 1.0900 | 1 |\n",
       "| 0.00 | 1.2900 | 1 |\n",
       "| 0.00 | 0.8800 | 0 |\n",
       "| 0.00 | 0.0900 | 0 |\n",
       "| 0.00 | 1.3000 | 0 |\n",
       "| 0.00 | 1.0700 | 1 |\n",
       "| 0.00 | 0.0000 | 0 |\n",
       "| 0.18 | 3.4700 | 1 |\n",
       "| 0.00 | 1.0400 | 0 |\n",
       "| 0.00 | 1.4900 | 0 |\n",
       "| 0.00 | 2.0100 | 1 |\n",
       "| 0.00 | 0.0000 | 0 |\n",
       "| 0.00 | 0.5900 | 0 |\n",
       "| 0.00 | 0.0200 | 0 |\n",
       "| 0.00 | 5.9600 | 1 |\n",
       "| 0.00 | 3.3000 | 1 |\n",
       "| 0.00 | 1.3700 | 0 |\n",
       "| 0.21 | 0.9000 | 0 |\n",
       "| 0.00 | 0.9700 | 0 |\n",
       "| 0.09 | 1.0100 | 0 |\n",
       "| 0.00 | 1.2000 | 0 |\n",
       "| 0.00 | 0.8900 | 0 |\n",
       "| 0.00 | 0.8400 | 0 |\n",
       "| 0.00 | 0.2800 | 0 |\n",
       "| 0.00 | 0.2000 | 0 |\n",
       "| 0.32 | 0.0000 | 0 |\n",
       "\n"
      ],
      "text/plain": [
       "    Money_Value TOTAL  Risk\n",
       "1     3.380      6.68  1   \n",
       "2     0.940      4.83  0   \n",
       "3     0.000      0.74  0   \n",
       "4    11.750     10.80  1   \n",
       "5     0.000      0.08  0   \n",
       "6     2.950      0.83  0   \n",
       "7    44.950      8.51  1   \n",
       "8     7.790     20.53  1   \n",
       "9     7.340     19.45  1   \n",
       "10    1.930      4.97  1   \n",
       "11    4.420     16.20  1   \n",
       "12    0.960     55.52  1   \n",
       "13   10.430     13.10  1   \n",
       "14    0.000      1.44  1   \n",
       "15    0.007      0.84  0   \n",
       "16    9.000     10.96  1   \n",
       "17   41.280     40.17  1   \n",
       "18   14.030      9.01  1   \n",
       "19    0.000      2.84  1   \n",
       "20   63.180     51.64  1   \n",
       "21   34.240     20.36  1   \n",
       "22    0.010      5.96  1   \n",
       "23  205.190     28.10  1   \n",
       "24    0.100      0.95  0   \n",
       "25   11.160     63.70  1   \n",
       "26    1.250      9.66  1   \n",
       "27    0.007      1.10  0   \n",
       "28    1.460     38.61  1   \n",
       "29    0.000      1.03  0   \n",
       "30    6.780      0.75  1   \n",
       "⋮   ⋮           ⋮      ⋮   \n",
       "747 0.00        0.2517 0   \n",
       "748 0.00        0.3115 0   \n",
       "749 0.00        0.0000 0   \n",
       "750 0.00        0.8400 0   \n",
       "751 0.00        1.0900 1   \n",
       "752 0.00        1.2900 1   \n",
       "753 0.00        0.8800 0   \n",
       "754 0.00        0.0900 0   \n",
       "755 0.00        1.3000 0   \n",
       "756 0.00        1.0700 1   \n",
       "757 0.00        0.0000 0   \n",
       "758 0.18        3.4700 1   \n",
       "759 0.00        1.0400 0   \n",
       "760 0.00        1.4900 0   \n",
       "761 0.00        2.0100 1   \n",
       "762 0.00        0.0000 0   \n",
       "763 0.00        0.5900 0   \n",
       "764 0.00        0.0200 0   \n",
       "765 0.00        5.9600 1   \n",
       "766 0.00        3.3000 1   \n",
       "767 0.00        1.3700 0   \n",
       "768 0.21        0.9000 0   \n",
       "769 0.00        0.9700 0   \n",
       "770 0.09        1.0100 0   \n",
       "771 0.00        1.2000 0   \n",
       "772 0.00        0.8900 0   \n",
       "773 0.00        0.8400 0   \n",
       "774 0.00        0.2800 0   \n",
       "775 0.00        0.2000 0   \n",
       "776 0.32        0.0000 0   "
      ]
     },
     "metadata": {},
     "output_type": "display_data"
    }
   ],
   "source": [
    "audit_trial <- read_csv(\"audit_data/trial.csv\")%>%\n",
    "    select(Money_Value, TOTAL, Risk) %>%\n",
    "    mutate(Risk = as.factor(Risk))\n",
    "audit_trial\n",
    "\n",
    "audit_split <- initial_split(audit_trial, prop = 0.75, strata = Risk)\n",
    "audit_training <- training(audit_split)\n",
    "audit_testing <- testing(audit_split)"
   ]
  },
  {
   "cell_type": "code",
   "execution_count": 4,
   "metadata": {},
   "outputs": [
    {
     "data": {
      "text/plain": [
       "Data Recipe\n",
       "\n",
       "Inputs:\n",
       "\n",
       "      role #variables\n",
       "   outcome          1\n",
       " predictor          2\n",
       "\n",
       "Operations:\n",
       "\n",
       "Scaling for all_predictors()\n",
       "Centering for all_predictors()"
      ]
     },
     "metadata": {},
     "output_type": "display_data"
    }
   ],
   "source": [
    "audit_recipe <- recipe(Risk ~., data = audit_training) %>%\n",
    "    step_scale(all_predictors()) %>%\n",
    "    step_center(all_predictors())\n",
    "\n",
    "audit_recipe"
   ]
  },
  {
   "cell_type": "code",
   "execution_count": 5,
   "metadata": {},
   "outputs": [
    {
     "data": {
      "text/plain": [
       "K-Nearest Neighbor Model Specification (classification)\n",
       "\n",
       "Main Arguments:\n",
       "  neighbors = 3\n",
       "  weight_func = rectangular\n",
       "\n",
       "Computational engine: kknn \n"
      ]
     },
     "metadata": {},
     "output_type": "display_data"
    }
   ],
   "source": [
    "knn_spec <- nearest_neighbor(weight_func = \"rectangular\", neighbors = 3) %>%\n",
    "       set_engine(\"kknn\") %>%\n",
    "       set_mode(\"classification\")\n",
    "knn_spec\n"
   ]
  },
  {
   "cell_type": "code",
   "execution_count": 12,
   "metadata": {},
   "outputs": [
    {
     "data": {
      "text/plain": [
       "══ Workflow [trained] ══════════════════════════════════════════════════════════\n",
       "\u001b[3mPreprocessor:\u001b[23m Recipe\n",
       "\u001b[3mModel:\u001b[23m nearest_neighbor()\n",
       "\n",
       "── Preprocessor ────────────────────────────────────────────────────────────────\n",
       "2 Recipe Steps\n",
       "\n",
       "● step_scale()\n",
       "● step_center()\n",
       "\n",
       "── Model ───────────────────────────────────────────────────────────────────────\n",
       "\n",
       "Call:\n",
       "kknn::train.kknn(formula = ..y ~ ., data = data, ks = ~3, kernel = ~\"rectangular\")\n",
       "\n",
       "Type of response variable: nominal\n",
       "Minimal misclassification: 0.1423671\n",
       "Best kernel: rectangular\n",
       "Best k: 3"
      ]
     },
     "metadata": {},
     "output_type": "display_data"
    }
   ],
   "source": [
    "audit_workflow <- workflow() %>%\n",
    "       add_recipe(audit_recipe) %>%\n",
    "       add_model(knn_spec)%>%\n",
    "       fit(data= audit_training)\n",
    "\n",
    "audit_workflow"
   ]
  },
  {
   "cell_type": "markdown",
   "metadata": {},
   "source": [
    "### Training Data Visualization"
   ]
  },
  {
   "cell_type": "code",
   "execution_count": 18,
   "metadata": {},
   "outputs": [
    {
     "data": {
      "image/png": "[encoded data removed]",
      "text/plain": [
       "plot without title"
      ]
     },
     "metadata": {
      "image/png": {
       "height": 840,
       "width": 1080
      }
     },
     "output_type": "display_data"
    }
   ],
   "source": [
    "options(repr.plot.width=18, repr.plot.height=14)\n",
    "audit_plot <- ggplot(audit_training, (aes(x= TOTAL , y= Money_Value, colour = Risk))) +\n",
    "        geom_point() + \n",
    "        labs(x = \"Money Involved in Misstatements in Past Audits(₹) \", y = \"Total  Discrepancy Found in Other Reports\", colour = 'Risk') +\n",
    "        ggtitle(\"Fraudulent Activity within Indian Firms\") +\n",
    "        theme(text = element_text(size = 20))\n",
    "audit_plot"
   ]
  },
  {
   "cell_type": "markdown",
   "metadata": {},
   "source": [
    "### Training Data Summary Tables"
   ]
  },
  {
   "cell_type": "code",
   "execution_count": 38,
   "metadata": {},
   "outputs": [
    {
     "data": {
      "text/html": [
       "<table>\n",
       "<caption>A tibble: 1 × 3</caption>\n",
       "<thead>\n",
       "\t<tr><th scope=col>Money_Value</th><th scope=col>TOTAL</th><th scope=col>Risk</th></tr>\n",
       "\t<tr><th scope=col>&lt;dbl&gt;</th><th scope=col>&lt;dbl&gt;</th><th scope=col>&lt;fct&gt;</th></tr>\n",
       "</thead>\n",
       "<tbody>\n",
       "\t<tr><td>0.36</td><td>1</td><td>1</td></tr>\n",
       "</tbody>\n",
       "</table>\n"
      ],
      "text/latex": [
       "A tibble: 1 × 3\n",
       "\\begin{tabular}{lll}\n",
       " Money\\_Value & TOTAL & Risk\\\\\n",
       " <dbl> & <dbl> & <fct>\\\\\n",
       "\\hline\n",
       "\t 0.36 & 1 & 1\\\\\n",
       "\\end{tabular}\n"
      ],
      "text/markdown": [
       "\n",
       "A tibble: 1 × 3\n",
       "\n",
       "| Money_Value &lt;dbl&gt; | TOTAL &lt;dbl&gt; | Risk &lt;fct&gt; |\n",
       "|---|---|---|\n",
       "| 0.36 | 1 | 1 |\n",
       "\n"
      ],
      "text/plain": [
       "  Money_Value TOTAL Risk\n",
       "1 0.36        1     1   "
      ]
     },
     "metadata": {},
     "output_type": "display_data"
    },
    {
     "data": {
      "text/html": [
       "<table>\n",
       "<caption>A tibble: 1 × 3</caption>\n",
       "<thead>\n",
       "\t<tr><th scope=col>mean_mv</th><th scope=col>mean_t</th><th scope=col>count</th></tr>\n",
       "\t<tr><th scope=col>&lt;dbl&gt;</th><th scope=col>&lt;dbl&gt;</th><th scope=col>&lt;int&gt;</th></tr>\n",
       "</thead>\n",
       "<tbody>\n",
       "\t<tr><td>13.55231</td><td>13.36403</td><td>583</td></tr>\n",
       "</tbody>\n",
       "</table>\n"
      ],
      "text/latex": [
       "A tibble: 1 × 3\n",
       "\\begin{tabular}{lll}\n",
       " mean\\_mv & mean\\_t & count\\\\\n",
       " <dbl> & <dbl> & <int>\\\\\n",
       "\\hline\n",
       "\t 13.55231 & 13.36403 & 583\\\\\n",
       "\\end{tabular}\n"
      ],
      "text/markdown": [
       "\n",
       "A tibble: 1 × 3\n",
       "\n",
       "| mean_mv &lt;dbl&gt; | mean_t &lt;dbl&gt; | count &lt;int&gt; |\n",
       "|---|---|---|\n",
       "| 13.55231 | 13.36403 | 583 |\n",
       "\n"
      ],
      "text/plain": [
       "  mean_mv  mean_t   count\n",
       "1 13.55231 13.36403 583  "
      ]
     },
     "metadata": {},
     "output_type": "display_data"
    }
   ],
   "source": [
    "missing_values <- filter(audit_training, TOTAL == 1)\n",
    "summary <- summarize(audit_training, mean_mv = mean(Money_Value), mean_t = mean(TOTAL), count = nrow(audit_training))\n",
    "\n",
    "missing_values\n",
    "summary"
   ]
  },
  {
   "cell_type": "markdown",
   "metadata": {},
   "source": [
    "## Methods\n",
    "\n",
    "After a preliminary investigation into the paper utilizing this data we determined the most important factors were Score A, Score B, Money Value, Total, Loss, and History. However, to improve the final data visualization of the project we narrowed it down to two factors:  the amount of money involved in misstatements in past audits (Money_Value), and the total amount of discrepancy found in past audit report (TOTAL). To visualize the data, we plan on using a scatter plot with fraudulent and non-fraudulent firms color coded with the two predictors on the axes. \n"
   ]
  },
  {
   "cell_type": "markdown",
   "metadata": {},
   "source": [
    "## Expected outcomes and significance\n",
    "Through this project, we expect to find If we can use the amount of money involved in misstatements and the total amount of discrepancy found in past audit reports to predict whether a firm is fraudulent or not.\n",
    "<br>Our findings could help auditors conduct risk assessment through identification of anomalies and trends and then point out items they need to investigate further, as a result, they can improve their models for auditing. Besides, our findings can provide evidence and statistical support for possible legal policies and actions imposed upon firms that are predicted to be fraudulent.\n",
    "<br>This project could lead to the question that if there are other variables that can be looked at that help provide a more accurate prediction. In addition, whether there are any trends in fraudulent firms or not and how these patterns can be more easily detected are to be explored further in future studies."
   ]
  }
 ],
 "metadata": {
  "kernelspec": {
   "display_name": "R",
   "language": "R",
   "name": "ir"
  },
  "language_info": {
   "codemirror_mode": "r",
   "file_extension": ".r",
   "mimetype": "text/x-r-source",
   "name": "R",
   "pygments_lexer": "r",
   "version": "4.0.0"
  }
 },
 "nbformat": 4,
 "nbformat_minor": 4
}
