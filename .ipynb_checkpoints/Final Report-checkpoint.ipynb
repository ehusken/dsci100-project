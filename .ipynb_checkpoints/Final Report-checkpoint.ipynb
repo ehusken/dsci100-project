{
 "cells": [
  {
   "cell_type": "markdown",
   "metadata": {},
   "source": [
    "# Predicting Fraudulent Activity through Data Analytics"
   ]
  },
  {
   "cell_type": "markdown",
   "metadata": {},
   "source": [
    "## Introduction"
   ]
  },
  {
   "cell_type": "markdown",
   "metadata": {},
   "source": [
    "Auditing is the practice of examining businesses' financial records compared to their financial statements to ensure they comply with standard accounting laws (Hooda et. al.). It is conducted primarily through three methods known as process auditing, which verifies the processes in a business conform to predetermined rules; product auditing, which examines if a specific product or service follows the necessary requirements; finally, system auditing that involves the analysis of a management system (“What Is Auditing?”). Furthermore, there are various audit categories. For instance, internal audits are conducted within the organization, while an external audit is completely independent of the company (“What Is Auditing?”). The selected dataset is an example of an external process audit. \n",
    "\n",
    "The dataset used will be Audit Data, which was collected by the Comptroller and Auditor General of India for the 2015-2016 year from the Auditor General Office of the CAG. The data was collected by an external audit company and was used previously to improve algorithms predicting the quality of auditing work. The set features information from 777 various firms across 46 different cities and 14 industrial sectors in India. The purpose of this data analysis project centers on the prevention of fraudulent firm activity. Data analysis and machine learning are promising methods of determining and predicting fraud activity due to the systematic workflow which has few variations across firms. \n",
    "\n",
    "<img src=\"https://dsci-100-student.stat.ubc.ca/jupyter/user/566740/files/dsci100-project/img/Figure1.jpeg?_xsrf=2%7Ccd7304ee%7C265b151a4749ba898ca62c877514c7a1%7C1639013116\" width=\"250\"></img>\n",
    "\n",
    "Figure 1. Audit Work-flow from Hooda, Nishtha, et al. “Fraudulent Firm Classification: A Case Study of an External Audit.” Applied Artificial Intelligence, vol. 32, no. 1, 2018, pp. 48–64., https://doi.org/10.1080/08839514.2018.1451032\n",
    "\n",
    "Identifying fraudulent firms within this dataset can be approached with a classification method (Hooda et. al.). By classifying the likelihood of counterfeit activity, auditing fieldwork can be focused on firms predicted as high risk, thereby reducing funds spent on unnecessary visits and investigations into low-risk corporations (Hooda et. al.). In the long term, the predictions established by the classification method may ensure a more stable economy, as manipulations by businesses for personal gain will be more easily identified. \n",
    "This project could identify variables useful in accurately predicting whether or not a firm has committed fraud. Furthermore, by establishing these predictor variables, patterns and trends concerning fraudulent companies can be more easily recognized, allowing future studies to explore the exact relationship. \n",
    " \n",
    "In this data analysis, we will be trying to answer the predictive question: “*Can the status of fraud in an Indian firm be predicted based on money involved past audit misstatements and the total discrepancy found in other reports?*”. These two predictive variables can be found in the dataset under the labels of `Money_Value` and `TOTAL`."
   ]
  },
  {
   "cell_type": "code",
   "execution_count": 1,
   "metadata": {},
   "outputs": [
    {
     "name": "stderr",
     "output_type": "stream",
     "text": [
      "── \u001b[1mAttaching packages\u001b[22m ─────────────────────────────────────── tidyverse 1.3.0 ──\n",
      "\n",
      "\u001b[32m✔\u001b[39m \u001b[34mggplot2\u001b[39m 3.3.2     \u001b[32m✔\u001b[39m \u001b[34mpurrr  \u001b[39m 0.3.4\n",
      "\u001b[32m✔\u001b[39m \u001b[34mtibble \u001b[39m 3.0.3     \u001b[32m✔\u001b[39m \u001b[34mdplyr  \u001b[39m 1.0.2\n",
      "\u001b[32m✔\u001b[39m \u001b[34mtidyr  \u001b[39m 1.1.2     \u001b[32m✔\u001b[39m \u001b[34mstringr\u001b[39m 1.4.0\n",
      "\u001b[32m✔\u001b[39m \u001b[34mreadr  \u001b[39m 1.3.1     \u001b[32m✔\u001b[39m \u001b[34mforcats\u001b[39m 0.5.0\n",
      "\n",
      "Warning message:\n",
      "“package ‘ggplot2’ was built under R version 4.0.1”\n",
      "Warning message:\n",
      "“package ‘tibble’ was built under R version 4.0.2”\n",
      "Warning message:\n",
      "“package ‘tidyr’ was built under R version 4.0.2”\n",
      "Warning message:\n",
      "“package ‘dplyr’ was built under R version 4.0.2”\n",
      "── \u001b[1mConflicts\u001b[22m ────────────────────────────────────────── tidyverse_conflicts() ──\n",
      "\u001b[31m✖\u001b[39m \u001b[34mdplyr\u001b[39m::\u001b[32mfilter()\u001b[39m masks \u001b[34mstats\u001b[39m::filter()\n",
      "\u001b[31m✖\u001b[39m \u001b[34mdplyr\u001b[39m::\u001b[32mlag()\u001b[39m    masks \u001b[34mstats\u001b[39m::lag()\n",
      "\n",
      "Warning message:\n",
      "“package ‘tidymodels’ was built under R version 4.0.2”\n",
      "── \u001b[1mAttaching packages\u001b[22m ────────────────────────────────────── tidymodels 0.1.1 ──\n",
      "\n",
      "\u001b[32m✔\u001b[39m \u001b[34mbroom    \u001b[39m 0.7.0      \u001b[32m✔\u001b[39m \u001b[34mrecipes  \u001b[39m 0.1.13\n",
      "\u001b[32m✔\u001b[39m \u001b[34mdials    \u001b[39m 0.0.9      \u001b[32m✔\u001b[39m \u001b[34mrsample  \u001b[39m 0.0.7 \n",
      "\u001b[32m✔\u001b[39m \u001b[34minfer    \u001b[39m 0.5.4      \u001b[32m✔\u001b[39m \u001b[34mtune     \u001b[39m 0.1.1 \n",
      "\u001b[32m✔\u001b[39m \u001b[34mmodeldata\u001b[39m 0.0.2      \u001b[32m✔\u001b[39m \u001b[34mworkflows\u001b[39m 0.2.0 \n",
      "\u001b[32m✔\u001b[39m \u001b[34mparsnip  \u001b[39m 0.1.3      \u001b[32m✔\u001b[39m \u001b[34myardstick\u001b[39m 0.0.7 \n",
      "\n",
      "Warning message:\n",
      "“package ‘broom’ was built under R version 4.0.2”\n",
      "Warning message:\n",
      "“package ‘dials’ was built under R version 4.0.2”\n",
      "Warning message:\n",
      "“package ‘infer’ was built under R version 4.0.3”\n",
      "Warning message:\n",
      "“package ‘modeldata’ was built under R version 4.0.1”\n",
      "Warning message:\n",
      "“package ‘parsnip’ was built under R version 4.0.2”\n",
      "Warning message:\n",
      "“package ‘recipes’ was built under R version 4.0.1”\n",
      "Warning message:\n",
      "“package ‘tune’ was built under R version 4.0.2”\n",
      "Warning message:\n",
      "“package ‘workflows’ was built under R version 4.0.2”\n",
      "Warning message:\n",
      "“package ‘yardstick’ was built under R version 4.0.2”\n",
      "── \u001b[1mConflicts\u001b[22m ───────────────────────────────────────── tidymodels_conflicts() ──\n",
      "\u001b[31m✖\u001b[39m \u001b[34mscales\u001b[39m::\u001b[32mdiscard()\u001b[39m masks \u001b[34mpurrr\u001b[39m::discard()\n",
      "\u001b[31m✖\u001b[39m \u001b[34mdplyr\u001b[39m::\u001b[32mfilter()\u001b[39m   masks \u001b[34mstats\u001b[39m::filter()\n",
      "\u001b[31m✖\u001b[39m \u001b[34mrecipes\u001b[39m::\u001b[32mfixed()\u001b[39m  masks \u001b[34mstringr\u001b[39m::fixed()\n",
      "\u001b[31m✖\u001b[39m \u001b[34mdplyr\u001b[39m::\u001b[32mlag()\u001b[39m      masks \u001b[34mstats\u001b[39m::lag()\n",
      "\u001b[31m✖\u001b[39m \u001b[34myardstick\u001b[39m::\u001b[32mspec()\u001b[39m masks \u001b[34mreadr\u001b[39m::spec()\n",
      "\u001b[31m✖\u001b[39m \u001b[34mrecipes\u001b[39m::\u001b[32mstep()\u001b[39m   masks \u001b[34mstats\u001b[39m::step()\n",
      "\n"
     ]
    }
   ],
   "source": [
    "### Run this cell before continuing.\n",
    "library(tidyverse)\n",
    "library(tidymodels)\n",
    "library(repr)"
   ]
  },
  {
   "cell_type": "markdown",
   "metadata": {},
   "source": [
    "## Methods and Results"
   ]
  },
  {
   "cell_type": "markdown",
   "metadata": {},
   "source": [
    "\n",
    "After a preliminary investigation into the paper utilizing this data we determined the most important factors were Score A, Score B, Money Value, Total, Loss, and History. However, to improve the final data visualization of the project we narrowed it down to two factors:  the amount of money involved in misstatements in past audits (Money_Value), and the total amount of discrepancy found in past audit reports (TOTAL), meaning that this two would be our variables and the Risk column is what we are looking to predict . We began by downloading and loading the final trial.csv  in our GitHub, which is the data found on the Audit Data website. We have decided to use Github as it is a group project and this way everyone has access to the data and can see the latest changes. When loading the data, we started unwrganling and cleaning the data by  mutating and removing all the unnecessary parts. We then were able to get a clear visualization of our first table. From there we moved on to the classification part of it. We split the data to our training and testing sets so we can use our classifier to later make predictions on on what would be our new data, and specified we wanted to use 75% of the given data, created a recipe, scaled our predictors (to make sure they were as suitable as possible) and centered them. We decided to use cross-validation which divides the data into equal chunks and compares them to make sure to get the best accuracy. This lets us choose our k that gives us the lowest RMSPE , so we created a workflow, which was composed by our recipe and mode specification. After collecting the metrics we were able to visualize our graph which plotted k vs the accuracy to be able to choose the best k value, in this case six.  With this information we were able to build our final model, only this time we used the fit model. Using this data we were able to predict from our chosen database as well as analyze the accuracy of our predictions which had 88.6% of accuracy, and added a confusion matrix which exposed that 7 Indian non-fraudulent companies are predicted fraudulent and 15 Indian fraudulent companies are predicted otherwise."
   ]
  },
  {
   "cell_type": "markdown",
   "metadata": {},
   "source": [
    "First, we load the file `trial.csv` from the `audit_data` folder in our GitHub repo. We `select()` the `Money_Value` and `TOTAL` as the variables we want to use, and the `Risk` column as the variable we try to predict. Then, we `mutate()` the `Risk` column such that it is a factor using `as_factor()`, and assign our data to an object called `audit_trial`."
   ]
  },
  {
   "cell_type": "code",
   "execution_count": 2,
   "metadata": {},
   "outputs": [
    {
     "name": "stderr",
     "output_type": "stream",
     "text": [
      "Parsed with column specification:\n",
      "cols(\n",
      "  Sector_score = \u001b[32mcol_double()\u001b[39m,\n",
      "  LOCATION_ID = \u001b[31mcol_character()\u001b[39m,\n",
      "  PARA_A = \u001b[32mcol_double()\u001b[39m,\n",
      "  SCORE_A = \u001b[32mcol_double()\u001b[39m,\n",
      "  PARA_B = \u001b[32mcol_double()\u001b[39m,\n",
      "  SCORE_B = \u001b[32mcol_double()\u001b[39m,\n",
      "  TOTAL = \u001b[32mcol_double()\u001b[39m,\n",
      "  numbers = \u001b[32mcol_double()\u001b[39m,\n",
      "  Marks = \u001b[32mcol_double()\u001b[39m,\n",
      "  Money_Value = \u001b[32mcol_double()\u001b[39m,\n",
      "  MONEY_Marks = \u001b[32mcol_double()\u001b[39m,\n",
      "  District = \u001b[32mcol_double()\u001b[39m,\n",
      "  Loss = \u001b[32mcol_double()\u001b[39m,\n",
      "  LOSS_SCORE = \u001b[32mcol_double()\u001b[39m,\n",
      "  History = \u001b[32mcol_double()\u001b[39m,\n",
      "  History_score = \u001b[32mcol_double()\u001b[39m,\n",
      "  Score = \u001b[32mcol_double()\u001b[39m,\n",
      "  Risk = \u001b[32mcol_double()\u001b[39m\n",
      ")\n",
      "\n"
     ]
    }
   ],
   "source": [
    "audit_trial <- read_csv(\"audit_data/trial.csv\") %>% #read the data set\n",
    "    select(Money_Value, TOTAL, Risk) %>%\n",
    "    mutate(Risk = as_factor(Risk))"
   ]
  },
  {
   "cell_type": "markdown",
   "metadata": {},
   "source": [
    "Then, we check and remove the rows with missing values using `is.na()` in `subset()` fuction and `na.omit()`fuction."
   ]
  },
  {
   "cell_type": "code",
   "execution_count": 3,
   "metadata": {},
   "outputs": [
    {
     "data": {
      "text/html": [
       "<table>\n",
       "<caption>A tibble: 1 × 3</caption>\n",
       "<thead>\n",
       "\t<tr><th scope=col>Money_Value</th><th scope=col>TOTAL</th><th scope=col>Risk</th></tr>\n",
       "\t<tr><th scope=col>&lt;dbl&gt;</th><th scope=col>&lt;dbl&gt;</th><th scope=col>&lt;fct&gt;</th></tr>\n",
       "</thead>\n",
       "<tbody>\n",
       "\t<tr><td>NA</td><td>0.23</td><td>0</td></tr>\n",
       "</tbody>\n",
       "</table>\n"
      ],
      "text/latex": [
       "A tibble: 1 × 3\n",
       "\\begin{tabular}{lll}\n",
       " Money\\_Value & TOTAL & Risk\\\\\n",
       " <dbl> & <dbl> & <fct>\\\\\n",
       "\\hline\n",
       "\t NA & 0.23 & 0\\\\\n",
       "\\end{tabular}\n"
      ],
      "text/markdown": [
       "\n",
       "A tibble: 1 × 3\n",
       "\n",
       "| Money_Value &lt;dbl&gt; | TOTAL &lt;dbl&gt; | Risk &lt;fct&gt; |\n",
       "|---|---|---|\n",
       "| NA | 0.23 | 0 |\n",
       "\n"
      ],
      "text/plain": [
       "  Money_Value TOTAL Risk\n",
       "1 NA          0.23  0   "
      ]
     },
     "metadata": {},
     "output_type": "display_data"
    }
   ],
   "source": [
    "audit_trial_missing <- subset(audit_trial, is.na(TOTAL) | is.na(Money_Value)) #checks for values named NA (missing values)\n",
    "audit_trial_missing"
   ]
  },
  {
   "cell_type": "markdown",
   "metadata": {},
   "source": [
    "Table 1. Observation with missing values"
   ]
  },
  {
   "cell_type": "code",
   "execution_count": 4,
   "metadata": {},
   "outputs": [
    {
     "data": {
      "text/html": [
       "<table>\n",
       "<caption>A tibble: 775 × 3</caption>\n",
       "<thead>\n",
       "\t<tr><th scope=col>Money_Value</th><th scope=col>TOTAL</th><th scope=col>Risk</th></tr>\n",
       "\t<tr><th scope=col>&lt;dbl&gt;</th><th scope=col>&lt;dbl&gt;</th><th scope=col>&lt;fct&gt;</th></tr>\n",
       "</thead>\n",
       "<tbody>\n",
       "\t<tr><td>  3.380</td><td> 6.68</td><td>1</td></tr>\n",
       "\t<tr><td>  0.940</td><td> 4.83</td><td>0</td></tr>\n",
       "\t<tr><td>  0.000</td><td> 0.74</td><td>0</td></tr>\n",
       "\t<tr><td> 11.750</td><td>10.80</td><td>1</td></tr>\n",
       "\t<tr><td>  0.000</td><td> 0.08</td><td>0</td></tr>\n",
       "\t<tr><td>  2.950</td><td> 0.83</td><td>0</td></tr>\n",
       "\t<tr><td> 44.950</td><td> 8.51</td><td>1</td></tr>\n",
       "\t<tr><td>  7.790</td><td>20.53</td><td>1</td></tr>\n",
       "\t<tr><td>  7.340</td><td>19.45</td><td>1</td></tr>\n",
       "\t<tr><td>  1.930</td><td> 4.97</td><td>1</td></tr>\n",
       "\t<tr><td>  4.420</td><td>16.20</td><td>1</td></tr>\n",
       "\t<tr><td>  0.960</td><td>55.52</td><td>1</td></tr>\n",
       "\t<tr><td> 10.430</td><td>13.10</td><td>1</td></tr>\n",
       "\t<tr><td>  0.000</td><td> 1.44</td><td>1</td></tr>\n",
       "\t<tr><td>  0.007</td><td> 0.84</td><td>0</td></tr>\n",
       "\t<tr><td>  9.000</td><td>10.96</td><td>1</td></tr>\n",
       "\t<tr><td> 41.280</td><td>40.17</td><td>1</td></tr>\n",
       "\t<tr><td> 14.030</td><td> 9.01</td><td>1</td></tr>\n",
       "\t<tr><td>  0.000</td><td> 2.84</td><td>1</td></tr>\n",
       "\t<tr><td> 63.180</td><td>51.64</td><td>1</td></tr>\n",
       "\t<tr><td> 34.240</td><td>20.36</td><td>1</td></tr>\n",
       "\t<tr><td>  0.010</td><td> 5.96</td><td>1</td></tr>\n",
       "\t<tr><td>205.190</td><td>28.10</td><td>1</td></tr>\n",
       "\t<tr><td>  0.100</td><td> 0.95</td><td>0</td></tr>\n",
       "\t<tr><td> 11.160</td><td>63.70</td><td>1</td></tr>\n",
       "\t<tr><td>  1.250</td><td> 9.66</td><td>1</td></tr>\n",
       "\t<tr><td>  0.007</td><td> 1.10</td><td>0</td></tr>\n",
       "\t<tr><td>  1.460</td><td>38.61</td><td>1</td></tr>\n",
       "\t<tr><td>  0.000</td><td> 1.03</td><td>0</td></tr>\n",
       "\t<tr><td>  6.780</td><td> 0.75</td><td>1</td></tr>\n",
       "\t<tr><td>⋮</td><td>⋮</td><td>⋮</td></tr>\n",
       "\t<tr><td>0.00</td><td>0.2517</td><td>0</td></tr>\n",
       "\t<tr><td>0.00</td><td>0.3115</td><td>0</td></tr>\n",
       "\t<tr><td>0.00</td><td>0.0000</td><td>0</td></tr>\n",
       "\t<tr><td>0.00</td><td>0.8400</td><td>0</td></tr>\n",
       "\t<tr><td>0.00</td><td>1.0900</td><td>1</td></tr>\n",
       "\t<tr><td>0.00</td><td>1.2900</td><td>1</td></tr>\n",
       "\t<tr><td>0.00</td><td>0.8800</td><td>0</td></tr>\n",
       "\t<tr><td>0.00</td><td>0.0900</td><td>0</td></tr>\n",
       "\t<tr><td>0.00</td><td>1.3000</td><td>0</td></tr>\n",
       "\t<tr><td>0.00</td><td>1.0700</td><td>1</td></tr>\n",
       "\t<tr><td>0.00</td><td>0.0000</td><td>0</td></tr>\n",
       "\t<tr><td>0.18</td><td>3.4700</td><td>1</td></tr>\n",
       "\t<tr><td>0.00</td><td>1.0400</td><td>0</td></tr>\n",
       "\t<tr><td>0.00</td><td>1.4900</td><td>0</td></tr>\n",
       "\t<tr><td>0.00</td><td>2.0100</td><td>1</td></tr>\n",
       "\t<tr><td>0.00</td><td>0.0000</td><td>0</td></tr>\n",
       "\t<tr><td>0.00</td><td>0.5900</td><td>0</td></tr>\n",
       "\t<tr><td>0.00</td><td>0.0200</td><td>0</td></tr>\n",
       "\t<tr><td>0.00</td><td>5.9600</td><td>1</td></tr>\n",
       "\t<tr><td>0.00</td><td>3.3000</td><td>1</td></tr>\n",
       "\t<tr><td>0.00</td><td>1.3700</td><td>0</td></tr>\n",
       "\t<tr><td>0.21</td><td>0.9000</td><td>0</td></tr>\n",
       "\t<tr><td>0.00</td><td>0.9700</td><td>0</td></tr>\n",
       "\t<tr><td>0.09</td><td>1.0100</td><td>0</td></tr>\n",
       "\t<tr><td>0.00</td><td>1.2000</td><td>0</td></tr>\n",
       "\t<tr><td>0.00</td><td>0.8900</td><td>0</td></tr>\n",
       "\t<tr><td>0.00</td><td>0.8400</td><td>0</td></tr>\n",
       "\t<tr><td>0.00</td><td>0.2800</td><td>0</td></tr>\n",
       "\t<tr><td>0.00</td><td>0.2000</td><td>0</td></tr>\n",
       "\t<tr><td>0.32</td><td>0.0000</td><td>0</td></tr>\n",
       "</tbody>\n",
       "</table>\n"
      ],
      "text/latex": [
       "A tibble: 775 × 3\n",
       "\\begin{tabular}{lll}\n",
       " Money\\_Value & TOTAL & Risk\\\\\n",
       " <dbl> & <dbl> & <fct>\\\\\n",
       "\\hline\n",
       "\t   3.380 &  6.68 & 1\\\\\n",
       "\t   0.940 &  4.83 & 0\\\\\n",
       "\t   0.000 &  0.74 & 0\\\\\n",
       "\t  11.750 & 10.80 & 1\\\\\n",
       "\t   0.000 &  0.08 & 0\\\\\n",
       "\t   2.950 &  0.83 & 0\\\\\n",
       "\t  44.950 &  8.51 & 1\\\\\n",
       "\t   7.790 & 20.53 & 1\\\\\n",
       "\t   7.340 & 19.45 & 1\\\\\n",
       "\t   1.930 &  4.97 & 1\\\\\n",
       "\t   4.420 & 16.20 & 1\\\\\n",
       "\t   0.960 & 55.52 & 1\\\\\n",
       "\t  10.430 & 13.10 & 1\\\\\n",
       "\t   0.000 &  1.44 & 1\\\\\n",
       "\t   0.007 &  0.84 & 0\\\\\n",
       "\t   9.000 & 10.96 & 1\\\\\n",
       "\t  41.280 & 40.17 & 1\\\\\n",
       "\t  14.030 &  9.01 & 1\\\\\n",
       "\t   0.000 &  2.84 & 1\\\\\n",
       "\t  63.180 & 51.64 & 1\\\\\n",
       "\t  34.240 & 20.36 & 1\\\\\n",
       "\t   0.010 &  5.96 & 1\\\\\n",
       "\t 205.190 & 28.10 & 1\\\\\n",
       "\t   0.100 &  0.95 & 0\\\\\n",
       "\t  11.160 & 63.70 & 1\\\\\n",
       "\t   1.250 &  9.66 & 1\\\\\n",
       "\t   0.007 &  1.10 & 0\\\\\n",
       "\t   1.460 & 38.61 & 1\\\\\n",
       "\t   0.000 &  1.03 & 0\\\\\n",
       "\t   6.780 &  0.75 & 1\\\\\n",
       "\t ⋮ & ⋮ & ⋮\\\\\n",
       "\t 0.00 & 0.2517 & 0\\\\\n",
       "\t 0.00 & 0.3115 & 0\\\\\n",
       "\t 0.00 & 0.0000 & 0\\\\\n",
       "\t 0.00 & 0.8400 & 0\\\\\n",
       "\t 0.00 & 1.0900 & 1\\\\\n",
       "\t 0.00 & 1.2900 & 1\\\\\n",
       "\t 0.00 & 0.8800 & 0\\\\\n",
       "\t 0.00 & 0.0900 & 0\\\\\n",
       "\t 0.00 & 1.3000 & 0\\\\\n",
       "\t 0.00 & 1.0700 & 1\\\\\n",
       "\t 0.00 & 0.0000 & 0\\\\\n",
       "\t 0.18 & 3.4700 & 1\\\\\n",
       "\t 0.00 & 1.0400 & 0\\\\\n",
       "\t 0.00 & 1.4900 & 0\\\\\n",
       "\t 0.00 & 2.0100 & 1\\\\\n",
       "\t 0.00 & 0.0000 & 0\\\\\n",
       "\t 0.00 & 0.5900 & 0\\\\\n",
       "\t 0.00 & 0.0200 & 0\\\\\n",
       "\t 0.00 & 5.9600 & 1\\\\\n",
       "\t 0.00 & 3.3000 & 1\\\\\n",
       "\t 0.00 & 1.3700 & 0\\\\\n",
       "\t 0.21 & 0.9000 & 0\\\\\n",
       "\t 0.00 & 0.9700 & 0\\\\\n",
       "\t 0.09 & 1.0100 & 0\\\\\n",
       "\t 0.00 & 1.2000 & 0\\\\\n",
       "\t 0.00 & 0.8900 & 0\\\\\n",
       "\t 0.00 & 0.8400 & 0\\\\\n",
       "\t 0.00 & 0.2800 & 0\\\\\n",
       "\t 0.00 & 0.2000 & 0\\\\\n",
       "\t 0.32 & 0.0000 & 0\\\\\n",
       "\\end{tabular}\n"
      ],
      "text/markdown": [
       "\n",
       "A tibble: 775 × 3\n",
       "\n",
       "| Money_Value &lt;dbl&gt; | TOTAL &lt;dbl&gt; | Risk &lt;fct&gt; |\n",
       "|---|---|---|\n",
       "|   3.380 |  6.68 | 1 |\n",
       "|   0.940 |  4.83 | 0 |\n",
       "|   0.000 |  0.74 | 0 |\n",
       "|  11.750 | 10.80 | 1 |\n",
       "|   0.000 |  0.08 | 0 |\n",
       "|   2.950 |  0.83 | 0 |\n",
       "|  44.950 |  8.51 | 1 |\n",
       "|   7.790 | 20.53 | 1 |\n",
       "|   7.340 | 19.45 | 1 |\n",
       "|   1.930 |  4.97 | 1 |\n",
       "|   4.420 | 16.20 | 1 |\n",
       "|   0.960 | 55.52 | 1 |\n",
       "|  10.430 | 13.10 | 1 |\n",
       "|   0.000 |  1.44 | 1 |\n",
       "|   0.007 |  0.84 | 0 |\n",
       "|   9.000 | 10.96 | 1 |\n",
       "|  41.280 | 40.17 | 1 |\n",
       "|  14.030 |  9.01 | 1 |\n",
       "|   0.000 |  2.84 | 1 |\n",
       "|  63.180 | 51.64 | 1 |\n",
       "|  34.240 | 20.36 | 1 |\n",
       "|   0.010 |  5.96 | 1 |\n",
       "| 205.190 | 28.10 | 1 |\n",
       "|   0.100 |  0.95 | 0 |\n",
       "|  11.160 | 63.70 | 1 |\n",
       "|   1.250 |  9.66 | 1 |\n",
       "|   0.007 |  1.10 | 0 |\n",
       "|   1.460 | 38.61 | 1 |\n",
       "|   0.000 |  1.03 | 0 |\n",
       "|   6.780 |  0.75 | 1 |\n",
       "| ⋮ | ⋮ | ⋮ |\n",
       "| 0.00 | 0.2517 | 0 |\n",
       "| 0.00 | 0.3115 | 0 |\n",
       "| 0.00 | 0.0000 | 0 |\n",
       "| 0.00 | 0.8400 | 0 |\n",
       "| 0.00 | 1.0900 | 1 |\n",
       "| 0.00 | 1.2900 | 1 |\n",
       "| 0.00 | 0.8800 | 0 |\n",
       "| 0.00 | 0.0900 | 0 |\n",
       "| 0.00 | 1.3000 | 0 |\n",
       "| 0.00 | 1.0700 | 1 |\n",
       "| 0.00 | 0.0000 | 0 |\n",
       "| 0.18 | 3.4700 | 1 |\n",
       "| 0.00 | 1.0400 | 0 |\n",
       "| 0.00 | 1.4900 | 0 |\n",
       "| 0.00 | 2.0100 | 1 |\n",
       "| 0.00 | 0.0000 | 0 |\n",
       "| 0.00 | 0.5900 | 0 |\n",
       "| 0.00 | 0.0200 | 0 |\n",
       "| 0.00 | 5.9600 | 1 |\n",
       "| 0.00 | 3.3000 | 1 |\n",
       "| 0.00 | 1.3700 | 0 |\n",
       "| 0.21 | 0.9000 | 0 |\n",
       "| 0.00 | 0.9700 | 0 |\n",
       "| 0.09 | 1.0100 | 0 |\n",
       "| 0.00 | 1.2000 | 0 |\n",
       "| 0.00 | 0.8900 | 0 |\n",
       "| 0.00 | 0.8400 | 0 |\n",
       "| 0.00 | 0.2800 | 0 |\n",
       "| 0.00 | 0.2000 | 0 |\n",
       "| 0.32 | 0.0000 | 0 |\n",
       "\n"
      ],
      "text/plain": [
       "    Money_Value TOTAL  Risk\n",
       "1     3.380      6.68  1   \n",
       "2     0.940      4.83  0   \n",
       "3     0.000      0.74  0   \n",
       "4    11.750     10.80  1   \n",
       "5     0.000      0.08  0   \n",
       "6     2.950      0.83  0   \n",
       "7    44.950      8.51  1   \n",
       "8     7.790     20.53  1   \n",
       "9     7.340     19.45  1   \n",
       "10    1.930      4.97  1   \n",
       "11    4.420     16.20  1   \n",
       "12    0.960     55.52  1   \n",
       "13   10.430     13.10  1   \n",
       "14    0.000      1.44  1   \n",
       "15    0.007      0.84  0   \n",
       "16    9.000     10.96  1   \n",
       "17   41.280     40.17  1   \n",
       "18   14.030      9.01  1   \n",
       "19    0.000      2.84  1   \n",
       "20   63.180     51.64  1   \n",
       "21   34.240     20.36  1   \n",
       "22    0.010      5.96  1   \n",
       "23  205.190     28.10  1   \n",
       "24    0.100      0.95  0   \n",
       "25   11.160     63.70  1   \n",
       "26    1.250      9.66  1   \n",
       "27    0.007      1.10  0   \n",
       "28    1.460     38.61  1   \n",
       "29    0.000      1.03  0   \n",
       "30    6.780      0.75  1   \n",
       "⋮   ⋮           ⋮      ⋮   \n",
       "746 0.00        0.2517 0   \n",
       "747 0.00        0.3115 0   \n",
       "748 0.00        0.0000 0   \n",
       "749 0.00        0.8400 0   \n",
       "750 0.00        1.0900 1   \n",
       "751 0.00        1.2900 1   \n",
       "752 0.00        0.8800 0   \n",
       "753 0.00        0.0900 0   \n",
       "754 0.00        1.3000 0   \n",
       "755 0.00        1.0700 1   \n",
       "756 0.00        0.0000 0   \n",
       "757 0.18        3.4700 1   \n",
       "758 0.00        1.0400 0   \n",
       "759 0.00        1.4900 0   \n",
       "760 0.00        2.0100 1   \n",
       "761 0.00        0.0000 0   \n",
       "762 0.00        0.5900 0   \n",
       "763 0.00        0.0200 0   \n",
       "764 0.00        5.9600 1   \n",
       "765 0.00        3.3000 1   \n",
       "766 0.00        1.3700 0   \n",
       "767 0.21        0.9000 0   \n",
       "768 0.00        0.9700 0   \n",
       "769 0.09        1.0100 0   \n",
       "770 0.00        1.2000 0   \n",
       "771 0.00        0.8900 0   \n",
       "772 0.00        0.8400 0   \n",
       "773 0.00        0.2800 0   \n",
       "774 0.00        0.2000 0   \n",
       "775 0.32        0.0000 0   "
      ]
     },
     "metadata": {},
     "output_type": "display_data"
    }
   ],
   "source": [
    "audit_trial_clean <- na.omit(audit_trial)#gets rid of data listed as NA\n",
    "audit_trial_clean"
   ]
  },
  {
   "cell_type": "markdown",
   "metadata": {},
   "source": [
    "Table 2. Audit data without rows containing missing values"
   ]
  },
  {
   "cell_type": "markdown",
   "metadata": {},
   "source": [
    "After cleaning our data, our next step is to create the training and test set. First use the `initial_split` function to split `audit_trial_clean`. Specify we want to use *75%* of the data. For the `strata` argument, place the variable we want to classify, `Risk`. Name the object we create `audit_split`. Next, pass the `audit_split` object to the `training` and `testing` functions and name your respective objects as `audit_training` and `audit_testing`. "
   ]
  },
  {
   "cell_type": "code",
   "execution_count": 5,
   "metadata": {},
   "outputs": [],
   "source": [
    "# Set the seed. Don't remove this!\n",
    "set.seed(9999)\n",
    "\n",
    "audit_split <- initial_split(audit_trial_clean, prop = 0.75, strata = Risk) #spilts the dataset\n",
    "audit_training <- training(audit_split)\n",
    "audit_testing <- testing(audit_split)"
   ]
  },
  {
   "cell_type": "markdown",
   "metadata": {},
   "source": [
    "For this project, we want to see if `Money_Value` and `TOTAL` can predict `Risk`, so our first step is to observe the distribution of our training data in terms of `Money_Value` and `TOTAL`."
   ]
  },
  {
   "cell_type": "code",
   "execution_count": 6,
   "metadata": {},
   "outputs": [
    {
     "data": {
      "image/png": "[encoded data removed]",
      "text/plain": [
       "plot without title"
      ]
     },
     "metadata": {
      "image/png": {
       "height": 900,
       "width": 900
      }
     },
     "output_type": "display_data"
    }
   ],
   "source": [
    "options(repr.plot.width = 15, repr.plot.height = 15)\n",
    "audit_plot <- ggplot(audit_training, (aes(x = TOTAL , y = Money_Value, colour = Risk))) +\n",
    "        geom_point() + \n",
    "        labs(x = \"Money Involved in Misstatements in Past Audits(₹) \", y = \"Total  Discrepancy Found in Other Reports\", colour = 'Risk') +\n",
    "        ggtitle(\"Fraudulent Activity within Indian Firms\") +\n",
    "        theme(text = element_text(size = 20))\n",
    "audit_plot"
   ]
  },
  {
   "cell_type": "markdown",
   "metadata": {},
   "source": [
    "Figure 2. Fraudulent Activity within Indian Firms"
   ]
  },
  {
   "cell_type": "markdown",
   "metadata": {},
   "source": [
    "After we visualize our training data, we use the `summarize()` function to get further details about our training data."
   ]
  },
  {
   "cell_type": "code",
   "execution_count": 7,
   "metadata": {},
   "outputs": [
    {
     "data": {
      "text/html": [
       "<table>\n",
       "<caption>A tibble: 1 × 3</caption>\n",
       "<thead>\n",
       "\t<tr><th scope=col>mean_mv</th><th scope=col>mean_t</th><th scope=col>count</th></tr>\n",
       "\t<tr><th scope=col>&lt;dbl&gt;</th><th scope=col>&lt;dbl&gt;</th><th scope=col>&lt;int&gt;</th></tr>\n",
       "</thead>\n",
       "<tbody>\n",
       "\t<tr><td>12.50685</td><td>13.07565</td><td>582</td></tr>\n",
       "</tbody>\n",
       "</table>\n"
      ],
      "text/latex": [
       "A tibble: 1 × 3\n",
       "\\begin{tabular}{lll}\n",
       " mean\\_mv & mean\\_t & count\\\\\n",
       " <dbl> & <dbl> & <int>\\\\\n",
       "\\hline\n",
       "\t 12.50685 & 13.07565 & 582\\\\\n",
       "\\end{tabular}\n"
      ],
      "text/markdown": [
       "\n",
       "A tibble: 1 × 3\n",
       "\n",
       "| mean_mv &lt;dbl&gt; | mean_t &lt;dbl&gt; | count &lt;int&gt; |\n",
       "|---|---|---|\n",
       "| 12.50685 | 13.07565 | 582 |\n",
       "\n"
      ],
      "text/plain": [
       "  mean_mv  mean_t   count\n",
       "1 12.50685 13.07565 582  "
      ]
     },
     "metadata": {},
     "output_type": "display_data"
    }
   ],
   "source": [
    "training_data_summary <- summarize(audit_training, mean_mv = mean(Money_Value), mean_t = mean(TOTAL), count = nrow(audit_training))\n",
    "training_data_summary"
   ]
  },
  {
   "cell_type": "markdown",
   "metadata": {},
   "source": [
    "Table 3. Summary of training data"
   ]
  },
  {
   "cell_type": "markdown",
   "metadata": {},
   "source": [
    "From the table above, we can learn that the means of `Money_Value` and `TOTAL` are 12.50685 and 13.07565 respectively and that we have 582 observations for training."
   ]
  },
  {
   "cell_type": "markdown",
   "metadata": {},
   "source": [
    "Now that we have a better idea of the training data, our next step is to create a recipe for these variables. First, pass the vector `audit_training` and the predictors to the `recipe` function. To scale our predictors, use the `step_scale(all_predictors())` function. To center our predictors, use the `step_center(all_predictors())` function. We assign our recipe to an object called `audit_recipe`. \n",
    "\n",
    "Now, we will use cross-validation on the training data set to select which $k$ is the most optimal for our data set for k-nn classification. To be specific, we will:\n",
    "- Perform a 5-fold cross-validation on the training set, create a workflow analysis with our recipe and model specification and specify that the tuning should try 10 values of $K$\n",
    "- Collect the metrics from the workflow analysis \n",
    "- Plot the $K$ vs the accuracy\n",
    "\n",
    "*Please do not change the value in the `set.seed()` function, we use this to make sure that our research is reproducible.*"
   ]
  },
  {
   "cell_type": "code",
   "execution_count": 8,
   "metadata": {},
   "outputs": [
    {
     "data": {
      "text/plain": [
       "Data Recipe\n",
       "\n",
       "Inputs:\n",
       "\n",
       "      role #variables\n",
       "   outcome          1\n",
       " predictor          2\n",
       "\n",
       "Operations:\n",
       "\n",
       "Scaling for all_predictors()\n",
       "Centering for all_predictors()"
      ]
     },
     "metadata": {},
     "output_type": "display_data"
    },
    {
     "data": {
      "text/plain": [
       "K-Nearest Neighbor Model Specification (classification)\n",
       "\n",
       "Main Arguments:\n",
       "  neighbors = tune()\n",
       "  weight_func = rectangular\n",
       "\n",
       "Computational engine: kknn \n"
      ]
     },
     "metadata": {},
     "output_type": "display_data"
    },
    {
     "data": {
      "image/png": "[encoded data removed]",
      "text/plain": [
       "plot without title"
      ]
     },
     "metadata": {
      "image/png": {
       "height": 900,
       "width": 900
      }
     },
     "output_type": "display_data"
    }
   ],
   "source": [
    "# Set the seed. Don't remove this!\n",
    "set.seed(1234)\n",
    "\n",
    "audit_recipe <- recipe(Risk ~ .,  data = audit_training) %>% #creates a recipe then standardizes all values\n",
    "    step_scale(all_predictors()) %>%\n",
    "    step_center(all_predictors())\n",
    "audit_recipe\n",
    "\n",
    "audit_vfold <- vfold_cv(audit_training, v = 5, strata = Risk) #performs a 5-fold cross-validation\n",
    "\n",
    "knn_tune <- nearest_neighbor(weight_func = \"rectangular\", neighbors = tune()) %>% #creates a specifications in K nearest neighbors using the tune() function\n",
    "      set_engine(\"kknn\") %>%\n",
    "      set_mode(\"classification\")\n",
    "knn_tune\n",
    "\n",
    "knn_results <- workflow() %>% #collects metrics in a workflow analysis\n",
    "      add_recipe(audit_recipe) %>%\n",
    "      add_model(knn_tune) %>%\n",
    "      tune_grid(resamples = audit_vfold, grid = 10) %>%\n",
    "      collect_metrics()\n",
    "\n",
    "accuracies <- knn_results %>% #filters accuracies from the results\n",
    "      filter(.metric == \"accuracy\")\n",
    "\n",
    "accuracy_versus_k <- ggplot(accuracies, aes(x = neighbors, y = mean)) + #visualizes the k neighbors against its accuracy \n",
    "      geom_point() +\n",
    "      geom_line() +\n",
    "      ggtitle(\"Accuracy vs. K\") +\n",
    "      labs(x = \"Neighbors\", y = \"Accuracy Estimate\") +\n",
    "      scale_x_continuous(breaks = seq(0, 14, by = 1)) +  # adjusting the x-axis\n",
    "      scale_y_continuous(limits = c(0.8, 1.0)) # adjusting the y-axis\n",
    "accuracy_versus_k"
   ]
  },
  {
   "cell_type": "markdown",
   "metadata": {},
   "source": [
    "Figure 3. Accuracy vs. K plot"
   ]
  },
  {
   "cell_type": "markdown",
   "metadata": {},
   "source": [
    "As we can see, the increase of accuracy slows down when $K$ is greater than 6, so we decide to choose 6 as our $K$. Now that we have explored our data, separated the data into training and testing sets, and applied cross-validation to choose the best $k$, we can build our final model.\n",
    "\n",
    "First, we build our model specification with the best value for $K$. Assign your answer to an object called `audit_spec`. Then, pass the model specification and the training data set to the `fit()` function. Assign your answer to an object called `audit_fit`.\n",
    "\n",
    "At last, we use our final model to predict on the test dataset and assign this to an object called `audit_predictions`, report the accuracy of this prediction, and store this in an object named `audit_metrics`. We also report the confusion matrix and and store this in an object named `audit_conf_mat`. "
   ]
  },
  {
   "cell_type": "code",
   "execution_count": 9,
   "metadata": {},
   "outputs": [
    {
     "data": {
      "text/plain": [
       "K-Nearest Neighbor Model Specification (classification)\n",
       "\n",
       "Main Arguments:\n",
       "  neighbors = 6\n",
       "  weight_func = rectangular\n",
       "\n",
       "Computational engine: kknn \n"
      ]
     },
     "metadata": {},
     "output_type": "display_data"
    },
    {
     "data": {
      "text/plain": [
       "══ Workflow [trained] ══════════════════════════════════════════════════════════\n",
       "\u001b[3mPreprocessor:\u001b[23m Recipe\n",
       "\u001b[3mModel:\u001b[23m nearest_neighbor()\n",
       "\n",
       "── Preprocessor ────────────────────────────────────────────────────────────────\n",
       "2 Recipe Steps\n",
       "\n",
       "● step_scale()\n",
       "● step_center()\n",
       "\n",
       "── Model ───────────────────────────────────────────────────────────────────────\n",
       "\n",
       "Call:\n",
       "kknn::train.kknn(formula = ..y ~ ., data = data, ks = ~6, kernel = ~\"rectangular\")\n",
       "\n",
       "Type of response variable: nominal\n",
       "Minimal misclassification: 0.1295337\n",
       "Best kernel: rectangular\n",
       "Best k: 6"
      ]
     },
     "metadata": {},
     "output_type": "display_data"
    },
    {
     "data": {
      "text/html": [
       "<table>\n",
       "<caption>A tibble: 193 × 4</caption>\n",
       "<thead>\n",
       "\t<tr><th scope=col>.pred_class</th><th scope=col>Money_Value</th><th scope=col>TOTAL</th><th scope=col>Risk</th></tr>\n",
       "\t<tr><th scope=col>&lt;fct&gt;</th><th scope=col>&lt;dbl&gt;</th><th scope=col>&lt;dbl&gt;</th><th scope=col>&lt;fct&gt;</th></tr>\n",
       "</thead>\n",
       "<tbody>\n",
       "\t<tr><td>1</td><td>  0.94</td><td> 4.83</td><td>0</td></tr>\n",
       "\t<tr><td>0</td><td>  0.00</td><td> 0.74</td><td>0</td></tr>\n",
       "\t<tr><td>1</td><td> 41.28</td><td>40.17</td><td>1</td></tr>\n",
       "\t<tr><td>1</td><td> 63.18</td><td>51.64</td><td>1</td></tr>\n",
       "\t<tr><td>0</td><td>  6.78</td><td> 0.75</td><td>1</td></tr>\n",
       "\t<tr><td>1</td><td>  1.16</td><td>19.03</td><td>1</td></tr>\n",
       "\t<tr><td>0</td><td>  0.00</td><td> 0.43</td><td>0</td></tr>\n",
       "\t<tr><td>1</td><td>126.13</td><td>15.38</td><td>1</td></tr>\n",
       "\t<tr><td>1</td><td>156.92</td><td> 9.51</td><td>1</td></tr>\n",
       "\t<tr><td>1</td><td>  2.29</td><td>18.05</td><td>1</td></tr>\n",
       "\t<tr><td>1</td><td>  2.51</td><td> 1.61</td><td>0</td></tr>\n",
       "\t<tr><td>1</td><td>  0.16</td><td> 1.05</td><td>0</td></tr>\n",
       "\t<tr><td>1</td><td>  8.91</td><td>24.87</td><td>1</td></tr>\n",
       "\t<tr><td>0</td><td>  0.00</td><td> 0.89</td><td>0</td></tr>\n",
       "\t<tr><td>1</td><td> 53.34</td><td> 3.98</td><td>1</td></tr>\n",
       "\t<tr><td>1</td><td> 11.16</td><td>84.26</td><td>1</td></tr>\n",
       "\t<tr><td>1</td><td> 10.69</td><td>12.30</td><td>1</td></tr>\n",
       "\t<tr><td>1</td><td>  5.69</td><td>84.73</td><td>1</td></tr>\n",
       "\t<tr><td>1</td><td>  0.74</td><td> 7.37</td><td>1</td></tr>\n",
       "\t<tr><td>1</td><td>  0.00</td><td> 3.72</td><td>1</td></tr>\n",
       "\t<tr><td>1</td><td>873.37</td><td>97.11</td><td>1</td></tr>\n",
       "\t<tr><td>1</td><td>  0.00</td><td> 1.74</td><td>0</td></tr>\n",
       "\t<tr><td>0</td><td>  0.00</td><td> 0.58</td><td>0</td></tr>\n",
       "\t<tr><td>1</td><td> 36.52</td><td> 1.30</td><td>1</td></tr>\n",
       "\t<tr><td>1</td><td> 17.16</td><td>13.99</td><td>1</td></tr>\n",
       "\t<tr><td>1</td><td>  0.00</td><td> 1.28</td><td>1</td></tr>\n",
       "\t<tr><td>0</td><td>  0.00</td><td> 0.85</td><td>1</td></tr>\n",
       "\t<tr><td>1</td><td> 10.79</td><td>73.66</td><td>1</td></tr>\n",
       "\t<tr><td>1</td><td>  3.46</td><td>47.56</td><td>1</td></tr>\n",
       "\t<tr><td>1</td><td>  0.00</td><td> 1.10</td><td>1</td></tr>\n",
       "\t<tr><td>⋮</td><td>⋮</td><td>⋮</td><td>⋮</td></tr>\n",
       "\t<tr><td>1</td><td> 0.00</td><td>1.8700</td><td>1</td></tr>\n",
       "\t<tr><td>0</td><td> 0.00</td><td>0.4900</td><td>0</td></tr>\n",
       "\t<tr><td>1</td><td> 0.00</td><td>1.6300</td><td>1</td></tr>\n",
       "\t<tr><td>0</td><td> 0.00</td><td>0.0000</td><td>0</td></tr>\n",
       "\t<tr><td>0</td><td> 0.00</td><td>0.0900</td><td>0</td></tr>\n",
       "\t<tr><td>0</td><td> 0.02</td><td>0.4900</td><td>0</td></tr>\n",
       "\t<tr><td>0</td><td> 0.00</td><td>0.4200</td><td>0</td></tr>\n",
       "\t<tr><td>1</td><td> 0.00</td><td>1.7400</td><td>1</td></tr>\n",
       "\t<tr><td>0</td><td> 0.00</td><td>0.2100</td><td>0</td></tr>\n",
       "\t<tr><td>0</td><td> 0.00</td><td>0.7800</td><td>0</td></tr>\n",
       "\t<tr><td>0</td><td> 0.00</td><td>0.2717</td><td>0</td></tr>\n",
       "\t<tr><td>0</td><td> 0.71</td><td>0.7400</td><td>0</td></tr>\n",
       "\t<tr><td>1</td><td> 0.58</td><td>1.0900</td><td>0</td></tr>\n",
       "\t<tr><td>0</td><td> 0.00</td><td>0.0000</td><td>0</td></tr>\n",
       "\t<tr><td>1</td><td> 0.00</td><td>1.0800</td><td>1</td></tr>\n",
       "\t<tr><td>1</td><td> 0.00</td><td>5.2400</td><td>1</td></tr>\n",
       "\t<tr><td>0</td><td> 0.00</td><td>0.4900</td><td>0</td></tr>\n",
       "\t<tr><td>1</td><td> 0.04</td><td>2.0000</td><td>1</td></tr>\n",
       "\t<tr><td>0</td><td> 0.00</td><td>0.6000</td><td>0</td></tr>\n",
       "\t<tr><td>1</td><td> 0.06</td><td>2.9900</td><td>1</td></tr>\n",
       "\t<tr><td>0</td><td> 0.00</td><td>0.0000</td><td>0</td></tr>\n",
       "\t<tr><td>0</td><td> 0.00</td><td>0.0000</td><td>0</td></tr>\n",
       "\t<tr><td>0</td><td> 2.40</td><td>0.7400</td><td>0</td></tr>\n",
       "\t<tr><td>0</td><td> 0.00</td><td>0.4025</td><td>0</td></tr>\n",
       "\t<tr><td>1</td><td>16.09</td><td>2.6600</td><td>1</td></tr>\n",
       "\t<tr><td>0</td><td> 0.00</td><td>0.8400</td><td>0</td></tr>\n",
       "\t<tr><td>1</td><td> 0.00</td><td>1.0700</td><td>1</td></tr>\n",
       "\t<tr><td>0</td><td> 0.00</td><td>0.0000</td><td>0</td></tr>\n",
       "\t<tr><td>0</td><td> 0.21</td><td>0.9000</td><td>0</td></tr>\n",
       "\t<tr><td>0</td><td> 0.00</td><td>0.8400</td><td>0</td></tr>\n",
       "</tbody>\n",
       "</table>\n"
      ],
      "text/latex": [
       "A tibble: 193 × 4\n",
       "\\begin{tabular}{llll}\n",
       " .pred\\_class & Money\\_Value & TOTAL & Risk\\\\\n",
       " <fct> & <dbl> & <dbl> & <fct>\\\\\n",
       "\\hline\n",
       "\t 1 &   0.94 &  4.83 & 0\\\\\n",
       "\t 0 &   0.00 &  0.74 & 0\\\\\n",
       "\t 1 &  41.28 & 40.17 & 1\\\\\n",
       "\t 1 &  63.18 & 51.64 & 1\\\\\n",
       "\t 0 &   6.78 &  0.75 & 1\\\\\n",
       "\t 1 &   1.16 & 19.03 & 1\\\\\n",
       "\t 0 &   0.00 &  0.43 & 0\\\\\n",
       "\t 1 & 126.13 & 15.38 & 1\\\\\n",
       "\t 1 & 156.92 &  9.51 & 1\\\\\n",
       "\t 1 &   2.29 & 18.05 & 1\\\\\n",
       "\t 1 &   2.51 &  1.61 & 0\\\\\n",
       "\t 1 &   0.16 &  1.05 & 0\\\\\n",
       "\t 1 &   8.91 & 24.87 & 1\\\\\n",
       "\t 0 &   0.00 &  0.89 & 0\\\\\n",
       "\t 1 &  53.34 &  3.98 & 1\\\\\n",
       "\t 1 &  11.16 & 84.26 & 1\\\\\n",
       "\t 1 &  10.69 & 12.30 & 1\\\\\n",
       "\t 1 &   5.69 & 84.73 & 1\\\\\n",
       "\t 1 &   0.74 &  7.37 & 1\\\\\n",
       "\t 1 &   0.00 &  3.72 & 1\\\\\n",
       "\t 1 & 873.37 & 97.11 & 1\\\\\n",
       "\t 1 &   0.00 &  1.74 & 0\\\\\n",
       "\t 0 &   0.00 &  0.58 & 0\\\\\n",
       "\t 1 &  36.52 &  1.30 & 1\\\\\n",
       "\t 1 &  17.16 & 13.99 & 1\\\\\n",
       "\t 1 &   0.00 &  1.28 & 1\\\\\n",
       "\t 0 &   0.00 &  0.85 & 1\\\\\n",
       "\t 1 &  10.79 & 73.66 & 1\\\\\n",
       "\t 1 &   3.46 & 47.56 & 1\\\\\n",
       "\t 1 &   0.00 &  1.10 & 1\\\\\n",
       "\t ⋮ & ⋮ & ⋮ & ⋮\\\\\n",
       "\t 1 &  0.00 & 1.8700 & 1\\\\\n",
       "\t 0 &  0.00 & 0.4900 & 0\\\\\n",
       "\t 1 &  0.00 & 1.6300 & 1\\\\\n",
       "\t 0 &  0.00 & 0.0000 & 0\\\\\n",
       "\t 0 &  0.00 & 0.0900 & 0\\\\\n",
       "\t 0 &  0.02 & 0.4900 & 0\\\\\n",
       "\t 0 &  0.00 & 0.4200 & 0\\\\\n",
       "\t 1 &  0.00 & 1.7400 & 1\\\\\n",
       "\t 0 &  0.00 & 0.2100 & 0\\\\\n",
       "\t 0 &  0.00 & 0.7800 & 0\\\\\n",
       "\t 0 &  0.00 & 0.2717 & 0\\\\\n",
       "\t 0 &  0.71 & 0.7400 & 0\\\\\n",
       "\t 1 &  0.58 & 1.0900 & 0\\\\\n",
       "\t 0 &  0.00 & 0.0000 & 0\\\\\n",
       "\t 1 &  0.00 & 1.0800 & 1\\\\\n",
       "\t 1 &  0.00 & 5.2400 & 1\\\\\n",
       "\t 0 &  0.00 & 0.4900 & 0\\\\\n",
       "\t 1 &  0.04 & 2.0000 & 1\\\\\n",
       "\t 0 &  0.00 & 0.6000 & 0\\\\\n",
       "\t 1 &  0.06 & 2.9900 & 1\\\\\n",
       "\t 0 &  0.00 & 0.0000 & 0\\\\\n",
       "\t 0 &  0.00 & 0.0000 & 0\\\\\n",
       "\t 0 &  2.40 & 0.7400 & 0\\\\\n",
       "\t 0 &  0.00 & 0.4025 & 0\\\\\n",
       "\t 1 & 16.09 & 2.6600 & 1\\\\\n",
       "\t 0 &  0.00 & 0.8400 & 0\\\\\n",
       "\t 1 &  0.00 & 1.0700 & 1\\\\\n",
       "\t 0 &  0.00 & 0.0000 & 0\\\\\n",
       "\t 0 &  0.21 & 0.9000 & 0\\\\\n",
       "\t 0 &  0.00 & 0.8400 & 0\\\\\n",
       "\\end{tabular}\n"
      ],
      "text/markdown": [
       "\n",
       "A tibble: 193 × 4\n",
       "\n",
       "| .pred_class &lt;fct&gt; | Money_Value &lt;dbl&gt; | TOTAL &lt;dbl&gt; | Risk &lt;fct&gt; |\n",
       "|---|---|---|---|\n",
       "| 1 |   0.94 |  4.83 | 0 |\n",
       "| 0 |   0.00 |  0.74 | 0 |\n",
       "| 1 |  41.28 | 40.17 | 1 |\n",
       "| 1 |  63.18 | 51.64 | 1 |\n",
       "| 0 |   6.78 |  0.75 | 1 |\n",
       "| 1 |   1.16 | 19.03 | 1 |\n",
       "| 0 |   0.00 |  0.43 | 0 |\n",
       "| 1 | 126.13 | 15.38 | 1 |\n",
       "| 1 | 156.92 |  9.51 | 1 |\n",
       "| 1 |   2.29 | 18.05 | 1 |\n",
       "| 1 |   2.51 |  1.61 | 0 |\n",
       "| 1 |   0.16 |  1.05 | 0 |\n",
       "| 1 |   8.91 | 24.87 | 1 |\n",
       "| 0 |   0.00 |  0.89 | 0 |\n",
       "| 1 |  53.34 |  3.98 | 1 |\n",
       "| 1 |  11.16 | 84.26 | 1 |\n",
       "| 1 |  10.69 | 12.30 | 1 |\n",
       "| 1 |   5.69 | 84.73 | 1 |\n",
       "| 1 |   0.74 |  7.37 | 1 |\n",
       "| 1 |   0.00 |  3.72 | 1 |\n",
       "| 1 | 873.37 | 97.11 | 1 |\n",
       "| 1 |   0.00 |  1.74 | 0 |\n",
       "| 0 |   0.00 |  0.58 | 0 |\n",
       "| 1 |  36.52 |  1.30 | 1 |\n",
       "| 1 |  17.16 | 13.99 | 1 |\n",
       "| 1 |   0.00 |  1.28 | 1 |\n",
       "| 0 |   0.00 |  0.85 | 1 |\n",
       "| 1 |  10.79 | 73.66 | 1 |\n",
       "| 1 |   3.46 | 47.56 | 1 |\n",
       "| 1 |   0.00 |  1.10 | 1 |\n",
       "| ⋮ | ⋮ | ⋮ | ⋮ |\n",
       "| 1 |  0.00 | 1.8700 | 1 |\n",
       "| 0 |  0.00 | 0.4900 | 0 |\n",
       "| 1 |  0.00 | 1.6300 | 1 |\n",
       "| 0 |  0.00 | 0.0000 | 0 |\n",
       "| 0 |  0.00 | 0.0900 | 0 |\n",
       "| 0 |  0.02 | 0.4900 | 0 |\n",
       "| 0 |  0.00 | 0.4200 | 0 |\n",
       "| 1 |  0.00 | 1.7400 | 1 |\n",
       "| 0 |  0.00 | 0.2100 | 0 |\n",
       "| 0 |  0.00 | 0.7800 | 0 |\n",
       "| 0 |  0.00 | 0.2717 | 0 |\n",
       "| 0 |  0.71 | 0.7400 | 0 |\n",
       "| 1 |  0.58 | 1.0900 | 0 |\n",
       "| 0 |  0.00 | 0.0000 | 0 |\n",
       "| 1 |  0.00 | 1.0800 | 1 |\n",
       "| 1 |  0.00 | 5.2400 | 1 |\n",
       "| 0 |  0.00 | 0.4900 | 0 |\n",
       "| 1 |  0.04 | 2.0000 | 1 |\n",
       "| 0 |  0.00 | 0.6000 | 0 |\n",
       "| 1 |  0.06 | 2.9900 | 1 |\n",
       "| 0 |  0.00 | 0.0000 | 0 |\n",
       "| 0 |  0.00 | 0.0000 | 0 |\n",
       "| 0 |  2.40 | 0.7400 | 0 |\n",
       "| 0 |  0.00 | 0.4025 | 0 |\n",
       "| 1 | 16.09 | 2.6600 | 1 |\n",
       "| 0 |  0.00 | 0.8400 | 0 |\n",
       "| 1 |  0.00 | 1.0700 | 1 |\n",
       "| 0 |  0.00 | 0.0000 | 0 |\n",
       "| 0 |  0.21 | 0.9000 | 0 |\n",
       "| 0 |  0.00 | 0.8400 | 0 |\n",
       "\n"
      ],
      "text/plain": [
       "    .pred_class Money_Value TOTAL  Risk\n",
       "1   1             0.94       4.83  0   \n",
       "2   0             0.00       0.74  0   \n",
       "3   1            41.28      40.17  1   \n",
       "4   1            63.18      51.64  1   \n",
       "5   0             6.78       0.75  1   \n",
       "6   1             1.16      19.03  1   \n",
       "7   0             0.00       0.43  0   \n",
       "8   1           126.13      15.38  1   \n",
       "9   1           156.92       9.51  1   \n",
       "10  1             2.29      18.05  1   \n",
       "11  1             2.51       1.61  0   \n",
       "12  1             0.16       1.05  0   \n",
       "13  1             8.91      24.87  1   \n",
       "14  0             0.00       0.89  0   \n",
       "15  1            53.34       3.98  1   \n",
       "16  1            11.16      84.26  1   \n",
       "17  1            10.69      12.30  1   \n",
       "18  1             5.69      84.73  1   \n",
       "19  1             0.74       7.37  1   \n",
       "20  1             0.00       3.72  1   \n",
       "21  1           873.37      97.11  1   \n",
       "22  1             0.00       1.74  0   \n",
       "23  0             0.00       0.58  0   \n",
       "24  1            36.52       1.30  1   \n",
       "25  1            17.16      13.99  1   \n",
       "26  1             0.00       1.28  1   \n",
       "27  0             0.00       0.85  1   \n",
       "28  1            10.79      73.66  1   \n",
       "29  1             3.46      47.56  1   \n",
       "30  1             0.00       1.10  1   \n",
       "⋮   ⋮           ⋮           ⋮      ⋮   \n",
       "164 1            0.00       1.8700 1   \n",
       "165 0            0.00       0.4900 0   \n",
       "166 1            0.00       1.6300 1   \n",
       "167 0            0.00       0.0000 0   \n",
       "168 0            0.00       0.0900 0   \n",
       "169 0            0.02       0.4900 0   \n",
       "170 0            0.00       0.4200 0   \n",
       "171 1            0.00       1.7400 1   \n",
       "172 0            0.00       0.2100 0   \n",
       "173 0            0.00       0.7800 0   \n",
       "174 0            0.00       0.2717 0   \n",
       "175 0            0.71       0.7400 0   \n",
       "176 1            0.58       1.0900 0   \n",
       "177 0            0.00       0.0000 0   \n",
       "178 1            0.00       1.0800 1   \n",
       "179 1            0.00       5.2400 1   \n",
       "180 0            0.00       0.4900 0   \n",
       "181 1            0.04       2.0000 1   \n",
       "182 0            0.00       0.6000 0   \n",
       "183 1            0.06       2.9900 1   \n",
       "184 0            0.00       0.0000 0   \n",
       "185 0            0.00       0.0000 0   \n",
       "186 0            2.40       0.7400 0   \n",
       "187 0            0.00       0.4025 0   \n",
       "188 1           16.09       2.6600 1   \n",
       "189 0            0.00       0.8400 0   \n",
       "190 1            0.00       1.0700 1   \n",
       "191 0            0.00       0.0000 0   \n",
       "192 0            0.21       0.9000 0   \n",
       "193 0            0.00       0.8400 0   "
      ]
     },
     "metadata": {},
     "output_type": "display_data"
    }
   ],
   "source": [
    "# Set the seed. Don't remove this!\n",
    "set.seed(9999) \n",
    "\n",
    "audit_spec <- nearest_neighbor(weight_func = 'rectangular', neighbors = 6) %>% #re-specifies the knn given the optimal amount of neighbours from the above visualization.\n",
    "       set_engine(\"kknn\") %>%\n",
    "       set_mode(\"classification\")\n",
    "audit_spec\n",
    "\n",
    "audit_fit <- workflow() %>% #fits the recipe and specification\n",
    "       add_recipe(audit_recipe) %>%\n",
    "       add_model(audit_spec) %>%\n",
    "       fit(data = audit_testing)\n",
    "audit_fit\n",
    "\n",
    "audit_predictions <- predict(audit_fit, audit_testing) %>% #creates model to predict accuracy of testing dataset\n",
    "       bind_cols(audit_testing)\n",
    "audit_predictions"
   ]
  },
  {
   "cell_type": "markdown",
   "metadata": {},
   "source": [
    "Table 4. Prediction results"
   ]
  },
  {
   "cell_type": "code",
   "execution_count": 10,
   "metadata": {},
   "outputs": [
    {
     "data": {
      "text/html": [
       "<table>\n",
       "<caption>A tibble: 1 × 3</caption>\n",
       "<thead>\n",
       "\t<tr><th scope=col>.metric</th><th scope=col>.estimator</th><th scope=col>.estimate</th></tr>\n",
       "\t<tr><th scope=col>&lt;chr&gt;</th><th scope=col>&lt;chr&gt;</th><th scope=col>&lt;dbl&gt;</th></tr>\n",
       "</thead>\n",
       "<tbody>\n",
       "\t<tr><td>accuracy</td><td>binary</td><td>0.8860104</td></tr>\n",
       "</tbody>\n",
       "</table>\n"
      ],
      "text/latex": [
       "A tibble: 1 × 3\n",
       "\\begin{tabular}{lll}\n",
       " .metric & .estimator & .estimate\\\\\n",
       " <chr> & <chr> & <dbl>\\\\\n",
       "\\hline\n",
       "\t accuracy & binary & 0.8860104\\\\\n",
       "\\end{tabular}\n"
      ],
      "text/markdown": [
       "\n",
       "A tibble: 1 × 3\n",
       "\n",
       "| .metric &lt;chr&gt; | .estimator &lt;chr&gt; | .estimate &lt;dbl&gt; |\n",
       "|---|---|---|\n",
       "| accuracy | binary | 0.8860104 |\n",
       "\n"
      ],
      "text/plain": [
       "  .metric  .estimator .estimate\n",
       "1 accuracy binary     0.8860104"
      ]
     },
     "metadata": {},
     "output_type": "display_data"
    }
   ],
   "source": [
    "audit_metrics <- audit_predictions %>% #reports the accuracy of the prediction\n",
    "        metrics(truth = Risk, estimate = .pred_class) %>% \n",
    "        filter(.metric == \"accuracy\")\n",
    "audit_metrics"
   ]
  },
  {
   "cell_type": "markdown",
   "metadata": {},
   "source": [
    "Table 5. Accuracy of our predicting model"
   ]
  },
  {
   "cell_type": "code",
   "execution_count": 11,
   "metadata": {},
   "outputs": [
    {
     "data": {
      "text/plain": [
       "          Truth\n",
       "Prediction   0   1\n",
       "         0  65  15\n",
       "         1   7 106"
      ]
     },
     "metadata": {},
     "output_type": "display_data"
    }
   ],
   "source": [
    "audit_conf_mat <- audit_predictions %>% #reports confusion matrix\n",
    "      conf_mat(truth = Risk, estimate = .pred_class)\n",
    "audit_conf_mat"
   ]
  },
  {
   "cell_type": "markdown",
   "metadata": {},
   "source": [
    "Table 6. Confusion matrix of our rediction results"
   ]
  },
  {
   "cell_type": "markdown",
   "metadata": {},
   "source": [
    "Now that we can see that our model has an accuracy of 88.6%, we will look at the confusion matrix for the classifier. This will show us the table of predicted labels and correct labels. A confusion matrix is essentially a classification matrix. The columns of the confusion matrix represent the actual class and the rows represent the predicted class (or vice versa). As we can see from the one we got, 7 Indian non-fraudulent companyies are predicted fraudulent and 15 Indian fraudulent companies are predicted other wise."
   ]
  },
  {
   "cell_type": "markdown",
   "metadata": {},
   "source": [
    "## Dicussion "
   ]
  },
  {
   "cell_type": "markdown",
   "metadata": {},
   "source": [
    "Looking at the classification model using K Nearest Neighbours the optimal number of neighbors was found to be six. Optimal due to the high accuracy of the model when the K values were graphed against the accuracy estimate and low amount of overfitting. Knowing this, the estimated accuracy could be calculated from the confusion matrix, this accuracy being 88.6%. This accuracy indicates a strong correlation between the amount of money involved in misstatements in past audits (Money_Value) and the total amount of discrepancy found in past audit reports (TOTAL). Meaning if you were to calculate an Indian firm based on their misstatements and discrepancies a new firm would have an accurate prediction of whether the firm was fraudulent or normal. Out of the 193 firms studied in the final model, only seven non-fraudulent firms were predicted to be fraudulent. In future models, the aim would be to bring this number down and find a more accurate model. The predictor model has small-scale applications, however, this makes it important when analyzing Indian firms who, in the past, have submitted audits.\n",
    "The difficulty would be how accurate this model is in the face of new firms that do not have a long history of being audited. If there is a collection of firms with almost no auditing data then the accuracy would nosedive. Therefore new predictors would have to be added in place of the old ones as too many predictors would make the data hard to visualize. While there are many multivariable methods of looking for fraud such as Beneish’s M-score (8 variables) or Zipf’s Law (Huang et al. 2008 , the best two predictor variables would be the firm’s growing revenue and the firms’ reported revenue. If there are discrepancies there is a clear signal of embezzlement. While this method is straightforward, collecting data on new firms is costly and there is not a breadth of historical data on these firms’ audit history. Meaning if you were to include new firms in your data would have to model the data to account for fairly new reported versus actual revenue values which, with the inclusion of your new data, would lower your predictor accuracy. These findings are quite useful however as they have provided an accurate prediction of fraud among a plethora of Indian firms. Future studies could use this model on firms from other nations with historically high amounts of fraud. \n"
   ]
  },
  {
   "cell_type": "markdown",
   "metadata": {},
   "source": [
    "## References"
   ]
  },
  {
   "cell_type": "markdown",
   "metadata": {},
   "source": [
    "Audit Data Data Set. UCI Machine Learning Repository: Audit Data Data Set. (n.d.). Retrieved December 8, 2021, from https://archive.ics.uci.edu/ml/datasets/Audit+Data. \n",
    "\n",
    "Bloomenthal, A. (2021, December 7). Detecting financial statement fraud. Investopedia. Retrieved December 9, 2021, from https://www.investopedia.com/articles/financial-theory/11/detecting-financial-fraud.asp. \n",
    "\n",
    "Hooda, N., Bawa, S., & Rana, P. S. (2018). Fraudulent firm classification: A case study of an external audit. Applied Artificial Intelligence, 32(1), 48–64. https://doi.org/10.1080/08839514.2018.1451032 \n",
    "\n",
    "What is auditing? ASQ. (n.d.). Retrieved December 9, 2021, from https://asq.org/quality-resources/auditing. \n",
    "\n",
    "Huang, S.-M., Yen, D. C., Yang, L.-W., & Hua, J.-S. (2008). An investigation of Zipf's law for fraud detection (DSS#06-10-1826R(2)). Decision Support Systems, 46(1), 70–83. https://doi.org/10.1016/j.dss.2008.05.003 "
   ]
  }
 ],
 "metadata": {
  "kernelspec": {
   "display_name": "R",
   "language": "R",
   "name": "ir"
  },
  "language_info": {
   "codemirror_mode": "r",
   "file_extension": ".r",
   "mimetype": "text/x-r-source",
   "name": "R",
   "pygments_lexer": "r",
   "version": "4.0.0"
  }
 },
 "nbformat": 4,
 "nbformat_minor": 4
}
